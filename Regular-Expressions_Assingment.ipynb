{
 "cells": [
  {
   "cell_type": "markdown",
   "id": "286528ea-6485-490c-b5a1-3e0f8bd25a2f",
   "metadata": {},
   "source": [
    "***Que1.Write a Python program to replace all occurrences of a space, comma, or dot with a colon.***"
   ]
  },
  {
   "cell_type": "code",
   "execution_count": 13,
   "id": "88962d76-ba7d-4a95-92d8-c4b420a200c4",
   "metadata": {},
   "outputs": [
    {
     "name": "stdout",
     "output_type": "stream",
     "text": [
      "Python:Exercises::PHP:exercises:\n"
     ]
    }
   ],
   "source": [
    "import re\n",
    "text = 'Python Exercises, PHP exercises.'\n",
    "pattern='[ ,. ]'\n",
    "print(re.sub(pattern,\":\", text))"
   ]
  },
  {
   "cell_type": "markdown",
   "id": "ecf846a1-9fca-4b95-8ba1-a304215e66c3",
   "metadata": {},
   "source": [
    "***Que2.Create a dataframe using the dictionary below and remove everything (commas (,), !, XXXX, ;, etc.) from the columns except words.***"
   ]
  },
  {
   "cell_type": "code",
   "execution_count": 26,
   "id": "4114b6a3-de13-42a1-8d14-da3975661993",
   "metadata": {},
   "outputs": [
    {
     "name": "stdout",
     "output_type": "stream",
     "text": [
      "         SUMMARY\n",
      "0    hello world\n",
      "1           test\n",
      "2  four five six\n"
     ]
    }
   ],
   "source": [
    "import pandas as pd\n",
    "import re\n",
    "data = {'SUMMARY': ['hello, world!', 'XXXXX test', '123four, five:; six...']}\n",
    "df = pd.DataFrame(data)\n",
    "pattern='[^a-z\\s]'\n",
    "df['SUMMARY'] = df['SUMMARY'].str.replace(pattern, '', regex=True)\n",
    "print(df)"
   ]
  },
  {
   "cell_type": "markdown",
   "id": "e05e00f3-a808-4455-b00b-3f1179a7f54f",
   "metadata": {},
   "source": [
    "***Que3.Create a function in python to find all words that are at least 4 characters long in a string. The use of the re.compile() method is mandatory.***"
   ]
  },
  {
   "cell_type": "code",
   "execution_count": 17,
   "id": "05f1f4f4-0f70-4d6a-8221-09e126f7de0b",
   "metadata": {},
   "outputs": [
    {
     "name": "stdout",
     "output_type": "stream",
     "text": [
      "['Hello', 'this', 'sample', 'sentence', 'with', 'words', 'varying', 'lengths', 'like', 'data', 'science', 'regular', 'expression']\n"
     ]
    }
   ],
   "source": [
    "import re\n",
    "\n",
    "def find_long_words(input_string):\n",
    "    pattern = re.compile(r'\\b\\w{4,}\\b')\n",
    "    long_words = pattern.findall(input_string)\n",
    "    return long_words\n",
    "\n",
    "input_string = \"Hello, this is a sample sentence with words of varying lengths like data,science,regular,expression.\"\n",
    "long_words = find_long_words(input_string)\n",
    "print(long_words)\n"
   ]
  },
  {
   "cell_type": "markdown",
   "id": "b5aad0bb-a98d-441b-a103-257e8644fdb8",
   "metadata": {},
   "source": [
    "***Que4.Create a function in python to find all three, four, and five character words in a string. The use of the re.compile() method is mandatory.***"
   ]
  },
  {
   "cell_type": "code",
   "execution_count": 18,
   "id": "9bcfe2e3-6bf4-419a-ba6a-371fcb78f217",
   "metadata": {},
   "outputs": [
    {
     "name": "stdout",
     "output_type": "stream",
     "text": [
      "['Hello', 'this', 'with', 'words', 'like', 'data']\n"
     ]
    }
   ],
   "source": [
    "import re\n",
    "\n",
    "def find_words(input_string):\n",
    "    pattern = re.compile(r'\\b\\w{3,5}\\b')\n",
    "    specific_length_words = pattern.findall(input_string)\n",
    "    return specific_length_words\n",
    "\n",
    "input_string = \"Hello, this is a sample sentence with words of varying lengths like data,science,regular,expression.\"\n",
    "specific_length_words = find_words(input_string)\n",
    "print(specific_length_words)\n",
    "\n"
   ]
  },
  {
   "cell_type": "markdown",
   "id": "5bdc75c0-9abe-44ac-8baa-efb1a275210c",
   "metadata": {},
   "source": [
    "***Que5.Create a function in Python to remove the parenthesis in a list of strings. The use of the re.compile() method is mandatory.***"
   ]
  },
  {
   "cell_type": "code",
   "execution_count": 50,
   "id": "85e511ba-0963-4d9f-a80c-1f8f6cdef353",
   "metadata": {},
   "outputs": [
    {
     "name": "stdout",
     "output_type": "stream",
     "text": [
      "example.com\n",
      "hr@fliprobo.com\n",
      "github.com\n",
      "HelloDataScienceWorld\n",
      "DataScientist\n"
     ]
    }
   ],
   "source": [
    "import re\n",
    "\n",
    "def remove_parentheses(strings_list):\n",
    "    pattern = re.compile(r'[\\([{ })\\]]')\n",
    "    updated_strings = [pattern.sub(\"\",string) for string in strings_list]\n",
    "    return updated_strings\n",
    "\n",
    "# List of strings with parentheses\n",
    "sample_text = [\"example (.com)\", \"hr@fliprobo (.com)\", \"github (.com)\", \"Hello (Data Science World)\", \"Data (Scientist)\"]\n",
    "\n",
    "updated_strings = remove_parentheses(sample_text)\n",
    "for string in updated_strings:\n",
    "    print(string)\n"
   ]
  },
  {
   "cell_type": "markdown",
   "id": "ea9e1a02-ed88-49a7-ba28-59994654752f",
   "metadata": {},
   "source": [
    "***Que6.Write a python program to remove the parenthesis area from the text stored in the text file using Regular Expression.***"
   ]
  },
  {
   "cell_type": "code",
   "execution_count": 52,
   "id": "55943445-d5a2-42b0-aa5b-9dfa417bf48a",
   "metadata": {},
   "outputs": [
    {
     "name": "stdout",
     "output_type": "stream",
     "text": [
      "[\"example \", \"hr@fliprobo \", \"github \", \"Hello \", \"Data \"]\n",
      "\n"
     ]
    }
   ],
   "source": [
    "import re\n",
    "\n",
    "with open('sample_text.txt', 'r') as file:\n",
    "    text = file.read()\n",
    "\n",
    "pattern = re.compile(r'\\([^()]*\\)')\n",
    "\n",
    "modified_text = re.sub(pattern, '', text)\n",
    "\n",
    "print(modified_text)\n"
   ]
  },
  {
   "cell_type": "markdown",
   "id": "e681ae8f-92bc-4fe1-b671-1a2b2f124f7b",
   "metadata": {},
   "source": [
    "***Que7.Write a regular expression in Python to split a string into uppercase letters.***"
   ]
  },
  {
   "cell_type": "code",
   "execution_count": 54,
   "id": "f88a2973-0f9b-44cb-b3f2-23b6d3c6196c",
   "metadata": {},
   "outputs": [
    {
     "name": "stdout",
     "output_type": "stream",
     "text": [
      "['Importance', 'Of', 'Regular', 'Expressions', 'In', 'Python']\n"
     ]
    }
   ],
   "source": [
    "import re\n",
    "\n",
    "sample_text = \"ImportanceOfRegularExpressionsInPython\"\n",
    "result = re.findall('[A-Z][^A-Z]*', sample_text)\n",
    "\n",
    "print(result)\n"
   ]
  },
  {
   "cell_type": "markdown",
   "id": "1a778003-606b-426e-ac19-8e0240a8478d",
   "metadata": {},
   "source": [
    "***Que8.Create a function in python to insert spaces between words starting with numbers.***"
   ]
  },
  {
   "cell_type": "code",
   "execution_count": 55,
   "id": "fbdc94e5-b0d8-47c4-b5b1-5e054100e5a0",
   "metadata": {},
   "outputs": [
    {
     "name": "stdout",
     "output_type": "stream",
     "text": [
      "RegularExpression1 IsAn2 ImportantTopic3 InPython\n"
     ]
    }
   ],
   "source": [
    "import re\n",
    "\n",
    "def insert_spaces(text):\n",
    "    modified_text = re.sub(r'(?<=\\d)(?=\\D)', ' ', text)\n",
    "    return modified_text\n",
    "\n",
    "sample_text = \"RegularExpression1IsAn2ImportantTopic3InPython\"\n",
    "result = insert_spaces(sample_text)\n",
    "\n",
    "print(result)\n"
   ]
  },
  {
   "cell_type": "markdown",
   "id": "f60f113a-52a8-40f0-ab63-eca6188a9f2f",
   "metadata": {},
   "source": [
    "***que9.Create a function in python to insert spaces between words starting with capital letters or with numbers.***"
   ]
  },
  {
   "cell_type": "code",
   "execution_count": 58,
   "id": "e6c34ad7-edc8-40d8-be66-ca417c2f8bdd",
   "metadata": {},
   "outputs": [
    {
     "name": "stdout",
     "output_type": "stream",
     "text": [
      "RegularExpression1 IsAn2 ImportantTopic3 InPython\n"
     ]
    }
   ],
   "source": [
    "import re\n",
    "\n",
    "def insert_spaces(text):\n",
    "    pattern=r'(?<=[A-Z\\d])(?=[A-Z])'\n",
    "    modified_text = re.sub(pattern, ' ', text)\n",
    "    return modified_text\n",
    "\n",
    "sample_text = \"RegularExpression1IsAn2ImportantTopic3InPython\"\n",
    "result = insert_spaces(sample_text)\n",
    "\n",
    "print(result)\n"
   ]
  },
  {
   "cell_type": "markdown",
   "id": "b1cae5e6-22f6-4d5d-8407-3e72ecd7ae1f",
   "metadata": {},
   "source": [
    "***Que10.Use the github link below to read the data and create a dataframe. After creating the dataframe extract the first 6 letters of each country and store in the dataframe under a new column called first_five_letters.***"
   ]
  },
  {
   "cell_type": "code",
   "execution_count": 61,
   "id": "ba31e1c9-4dd4-4bf0-808c-05e65b8cacf0",
   "metadata": {},
   "outputs": [
    {
     "name": "stdout",
     "output_type": "stream",
     "text": [
      "       Country          Region  Happiness Rank  Happiness Score  \\\n",
      "0  Switzerland  Western Europe               1            7.587   \n",
      "1      Iceland  Western Europe               2            7.561   \n",
      "2      Denmark  Western Europe               3            7.527   \n",
      "3       Norway  Western Europe               4            7.522   \n",
      "4       Canada   North America               5            7.427   \n",
      "\n",
      "   Standard Error  Economy (GDP per Capita)   Family  \\\n",
      "0         0.03411                   1.39651  1.34951   \n",
      "1         0.04884                   1.30232  1.40223   \n",
      "2         0.03328                   1.32548  1.36058   \n",
      "3         0.03880                   1.45900  1.33095   \n",
      "4         0.03553                   1.32629  1.32261   \n",
      "\n",
      "   Health (Life Expectancy)  Freedom  Trust (Government Corruption)  \\\n",
      "0                   0.94143  0.66557                        0.41978   \n",
      "1                   0.94784  0.62877                        0.14145   \n",
      "2                   0.87464  0.64938                        0.48357   \n",
      "3                   0.88521  0.66973                        0.36503   \n",
      "4                   0.90563  0.63297                        0.32957   \n",
      "\n",
      "   Generosity  Dystopia Residual first_five_letters  \n",
      "0     0.29678            2.51738             Switze  \n",
      "1     0.43630            2.70201             Icelan  \n",
      "2     0.34139            2.49204             Denmar  \n",
      "3     0.34699            2.46531             Norway  \n",
      "4     0.45811            2.45176             Canada  \n"
     ]
    }
   ],
   "source": [
    "import pandas as pd\n",
    "\n",
    "url = \"https://raw.githubusercontent.com/dsrscientist/DSData/master/happiness_score_dataset.csv\"\n",
    "data = pd.read_csv(url)\n",
    "\n",
    "data['first_five_letters'] = data['Country'].apply(lambda x: x[:6])\n",
    "\n",
    "print(data.head())\n"
   ]
  },
  {
   "cell_type": "markdown",
   "id": "3688536a-1b74-45ec-875b-e947786471ed",
   "metadata": {},
   "source": [
    "***Que11.Write a Python program to match a string that contains only upper and lowercase letters, numbers, and underscores.***"
   ]
  },
  {
   "cell_type": "code",
   "execution_count": 65,
   "id": "0fd3b691-3901-4bc8-b2e7-922763060d3d",
   "metadata": {},
   "outputs": [
    {
     "name": "stdout",
     "output_type": "stream",
     "text": [
      "True\n",
      "False\n"
     ]
    }
   ],
   "source": [
    "import re\n",
    "\n",
    "def match_string(input_string):\n",
    "    if re.match(\"^[a-zA-Z0-9_]*$\", input_string):\n",
    "        return True\n",
    "    else:\n",
    "        return False\n",
    "\n",
    "test_string1 = \"Data_Science123\"\n",
    "test_string2 = \"Data@Science\"\n",
    "print(match_string(test_string1))  # Output will be True\n",
    "print(match_string(test_string2))  # Output will be  False\n"
   ]
  },
  {
   "cell_type": "markdown",
   "id": "aa90a02c-ee7b-4bcd-bc08-d6c74eb1aa05",
   "metadata": {},
   "source": [
    "***Que12.Write a Python program where a string will start with a specific number.***"
   ]
  },
  {
   "cell_type": "code",
   "execution_count": 64,
   "id": "e81031a4-f2db-4268-9fda-0cc9513187be",
   "metadata": {},
   "outputs": [
    {
     "name": "stdout",
     "output_type": "stream",
     "text": [
      "True\n",
      "False\n"
     ]
    }
   ],
   "source": [
    "import re\n",
    "\n",
    "def start_with_specific_number(input_string, number):\n",
    "    pattern = \"^\" + str(number) + \".*\"\n",
    "    if re.match(pattern, input_string):\n",
    "        return True\n",
    "    else:\n",
    "        return False\n",
    "\n",
    "test_string1 = \"123abc\"\n",
    "test_string2 = \"456xyz\"\n",
    "specific_number = 123\n",
    "\n",
    "print(start_with_specific_number(test_string1, specific_number))  # Output will be True\n",
    "print(start_with_specific_number(test_string2, specific_number))  # Output will be False\n"
   ]
  },
  {
   "cell_type": "markdown",
   "id": "a58517b0-3a10-4f9d-bfc6-5766526d9714",
   "metadata": {},
   "source": [
    "***Que13.Write a Python program to remove leading zeros from an IP address.***"
   ]
  },
  {
   "cell_type": "code",
   "execution_count": 66,
   "id": "ccc01aa0-cbab-45e3-a148-936c1c886ece",
   "metadata": {},
   "outputs": [
    {
     "name": "stdout",
     "output_type": "stream",
     "text": [
      "192.168.1.1\n"
     ]
    }
   ],
   "source": [
    "import re\n",
    "ip_address = \"192.168.001.001\"\n",
    "result = re.sub('\\.[0]*', '.', ip_address)\n",
    "print(result)"
   ]
  },
  {
   "cell_type": "markdown",
   "id": "4ea67560-bd08-4925-9d2e-b0ebadf646c5",
   "metadata": {},
   "source": [
    "***Que14.Write a regular expression in python to match a date string in the form of Month name followed by day number and year stored in a text file.***"
   ]
  },
  {
   "cell_type": "code",
   "execution_count": 71,
   "id": "2b4bde0a-5adf-4c97-85c1-da4f8ff6aa19",
   "metadata": {},
   "outputs": [
    {
     "name": "stdout",
     "output_type": "stream",
     "text": [
      "August 15th 1947\n"
     ]
    }
   ],
   "source": [
    "import re\n",
    "\n",
    "with open('sample_text.txt', 'r') as file:\n",
    "    text = file.read()\n",
    "\n",
    "pattern = r'\\b(?:January|February|March|April|May|June|July|August|September|October|November|December)\\s+\\d{1,2}(?:st|nd|rd|th)\\s+\\d{4}\\b'\n",
    "\n",
    "date_match = re.search(pattern, text)\n",
    "\n",
    "if date_match:\n",
    "    date_string = date_match.group()\n",
    "    print(date_string)\n",
    "else:\n",
    "    print(\"Date string not found in the text.\")\n"
   ]
  },
  {
   "cell_type": "markdown",
   "id": "5b33ce3f-25b1-4f94-ac93-28ed8a58b3bd",
   "metadata": {},
   "source": [
    "***Que15.Write a Python program to search some literals strings in a string.***"
   ]
  },
  {
   "cell_type": "code",
   "execution_count": 27,
   "id": "c03a2f35-1a48-4275-8b9d-1f683a8527f2",
   "metadata": {},
   "outputs": [
    {
     "name": "stdout",
     "output_type": "stream",
     "text": [
      "it's a match\n"
     ]
    }
   ],
   "source": [
    "import re\n",
    "my_string = 'The quick brown fox jumps over the lazy dog.'\n",
    "m = re.search('fox|dog|horse', my_string)\n",
    "if m:\n",
    "    print('it\\'s a match')\n",
    "else:\n",
    "    print('no match found')"
   ]
  },
  {
   "cell_type": "markdown",
   "id": "a2df7ea4-d875-4097-a3c6-332be69abafa",
   "metadata": {},
   "source": [
    "***Que16Write a Python program to search a literals string in a string and also find the location within the original string where the pattern occurs.***"
   ]
  },
  {
   "cell_type": "code",
   "execution_count": 76,
   "id": "fbd2ac8b-ae79-4175-b226-9e6807fd0553",
   "metadata": {},
   "outputs": [
    {
     "name": "stdout",
     "output_type": "stream",
     "text": [
      "match found at location is 15\n"
     ]
    }
   ],
   "source": [
    "import re\n",
    "string = 'The quick brown fox jumps over the lazy dog.'\n",
    "S = re.search('\\Wfox\\W', string)\n",
    "if S:\n",
    "    print('Match found at location is', S.start())\n",
    "else:\n",
    "    print('no match found')"
   ]
  },
  {
   "cell_type": "markdown",
   "id": "b97f8553-87f9-40c0-849e-e03beb38fd7a",
   "metadata": {},
   "source": [
    "***Que17.Write a Python program to find the substrings within a string.***"
   ]
  },
  {
   "cell_type": "code",
   "execution_count": 80,
   "id": "abfa59ec-a12e-4057-b395-f69d0c1085c1",
   "metadata": {},
   "outputs": [
    {
     "name": "stdout",
     "output_type": "stream",
     "text": [
      "Found \"exercises\"\n",
      "Found \"exercises\"\n",
      "Found \"exercises\"\n"
     ]
    }
   ],
   "source": [
    "import re\n",
    "text = 'Python exercises, PHP exercises, C# exercises'\n",
    "string = 'exercises'\n",
    "for match in re.findall(string, text):\n",
    "    print('Found \"%s\"' % match)\n"
   ]
  },
  {
   "cell_type": "markdown",
   "id": "3a2516f5-cc7d-48ba-9c7e-3c9556dd36ea",
   "metadata": {},
   "source": [
    "***Que18.Write a Python program to find the occurrence and position of the substrings within a string.***"
   ]
  },
  {
   "cell_type": "code",
   "execution_count": 81,
   "id": "b86161b4-671b-4ed8-a35d-a10f8fc22a85",
   "metadata": {},
   "outputs": [
    {
     "name": "stdout",
     "output_type": "stream",
     "text": [
      "Found \"exercises\" at 7:16\n",
      "Found \"exercises\" at 22:31\n",
      "Found \"exercises\" at 36:45\n"
     ]
    }
   ],
   "source": [
    "import re\n",
    "text = 'Python exercises, PHP exercises, C# exercises'\n",
    "string = 'exercises'\n",
    "for match in re.finditer(string, text):\n",
    "    s = match.start()\n",
    "    e = match.end()\n",
    "    print('Found \"%s\" at %d:%d' % (text[s:e], s, e))"
   ]
  },
  {
   "cell_type": "markdown",
   "id": "d2e937e2-ed71-4f00-8390-e8c259b12654",
   "metadata": {},
   "source": [
    "***Que19.Write a Python program to convert a date of yyyy-mm-dd format to dd-mm-yyyy format.***"
   ]
  },
  {
   "cell_type": "code",
   "execution_count": 95,
   "id": "e2d1f501-f80d-4495-9c75-3b243f82028a",
   "metadata": {},
   "outputs": [
    {
     "name": "stdout",
     "output_type": "stream",
     "text": [
      "03-03-2024\n"
     ]
    }
   ],
   "source": [
    "import re\n",
    "\n",
    "def convert_date(input_date):\n",
    "    pattern = r'^(\\d{4})-(\\d{2})-(\\d{2})$'\n",
    "    match = re.match(pattern, input_date)\n",
    "    \n",
    "    if match:\n",
    "        year = match.group(1)\n",
    "        month = match.group(2)\n",
    "        day = match.group(3)\n",
    "        output_date = f'{day}-{month}-{year}'\n",
    "        return output_date\n",
    "    else:\n",
    "        return 'Invalid date format. Please use yyyy-mm-dd format.'\n",
    "\n",
    "input_date = '2024-03-03'\n",
    "output_date = convert_date(input_date)\n",
    "print(output_date)\n",
    "\n"
   ]
  },
  {
   "cell_type": "markdown",
   "id": "c0d8efb1-ef97-4569-a539-74185f139125",
   "metadata": {},
   "source": [
    "***Que20.Create a function in python to find all decimal numbers with a precision of 1 or 2 in a string. The use of the re.compile() method is mandatory.***"
   ]
  },
  {
   "cell_type": "code",
   "execution_count": 1,
   "id": "1e461d3f-a844-4564-9194-da8225be66fb",
   "metadata": {},
   "outputs": [
    {
     "name": "stdout",
     "output_type": "stream",
     "text": [
      "['01.12', '145.8', '3.01', '27.25', '0.25']\n"
     ]
    }
   ],
   "source": [
    "import re\n",
    "\n",
    "def find_decimal_numbers(text):\n",
    "    pattern = re.compile(r'\\b\\d+\\.\\d{1,2}\\b')\n",
    "    return pattern.findall(text)\n",
    "\n",
    "sample_text = \"01.12 0132.123 2.31875 145.8 3.01 27.25 0.25\"\n",
    "result = find_decimal_numbers(sample_text)\n",
    "print(result)\n"
   ]
  },
  {
   "cell_type": "markdown",
   "id": "0f8b68a9-d7f0-414a-ad10-bb029af1ea78",
   "metadata": {},
   "source": [
    "***Que21.Write a Python program to separate and print the numbers and their position of a given string.***"
   ]
  },
  {
   "cell_type": "code",
   "execution_count": 3,
   "id": "8902452b-ddc9-4f1d-a506-894d686dc042",
   "metadata": {},
   "outputs": [
    {
     "name": "stdout",
     "output_type": "stream",
     "text": [
      "Number: 123 Position: 4\n",
      "Number: 456 Position: 12\n",
      "Number: 789 Position: 20\n"
     ]
    }
   ],
   "source": [
    "import re\n",
    "\n",
    "def extract_numbers(text):\n",
    "    pattern = re.compile(r'\\d+')\n",
    "    for match in re.finditer(pattern, text):\n",
    "        print(\"Number:\", match.group(0), \"Position:\", match.start())\n",
    "\n",
    "sample_text = \"abc 123 def 456 ghi 789\"\n",
    "extract_numbers(sample_text)\n"
   ]
  },
  {
   "cell_type": "markdown",
   "id": "7257f91e-9eb9-4e7b-9510-784c63386169",
   "metadata": {},
   "source": [
    "***Que22.Write a regular expression in python program to extract maximum/largest numeric value from a string.***"
   ]
  },
  {
   "cell_type": "code",
   "execution_count": 4,
   "id": "6d9c721b-d804-41f6-81af-b04158ece09a",
   "metadata": {},
   "outputs": [
    {
     "name": "stdout",
     "output_type": "stream",
     "text": [
      "950\n"
     ]
    }
   ],
   "source": [
    "import re\n",
    "\n",
    "def extract_max_numeric(text):\n",
    "    numbers = re.findall(r'\\d+', text)  # Find all numeric values in the text\n",
    "    max_number = max(map(int, numbers)) if numbers else None  # Find the maximum value among the numbers\n",
    "    \n",
    "    return max_number\n",
    "\n",
    "sample_text = 'My marks in each semester are: 947, 896, 926, 524, 734, 950, 642'\n",
    "result = extract_max_numeric(sample_text)\n",
    "print(result)\n"
   ]
  },
  {
   "cell_type": "markdown",
   "id": "902d1f67-316b-467d-9a8c-408f9d73dad6",
   "metadata": {},
   "source": [
    "***Que23.Create a function in python to insert spaces between words starting with capital letters.***"
   ]
  },
  {
   "cell_type": "code",
   "execution_count": 5,
   "id": "86daa04c-00ce-43ab-83a0-028bc2931c53",
   "metadata": {},
   "outputs": [
    {
     "name": "stdout",
     "output_type": "stream",
     "text": [
      "Regular Expression Is An Important Topic In Python\n"
     ]
    }
   ],
   "source": [
    "import re\n",
    "\n",
    "def insert_spaces(text):\n",
    "    result = re.sub(r'(?<!^)([A-Z][a-z])', r' \\1', text)  # Insert space before each word starting with a capital letter\n",
    "    return result\n",
    "\n",
    "sample_text = \"RegularExpressionIsAnImportantTopicInPython\"\n",
    "result = insert_spaces(sample_text)\n",
    "print(result)\n"
   ]
  },
  {
   "cell_type": "markdown",
   "id": "9d394278-724c-4ed6-a9e7-553084d1e827",
   "metadata": {},
   "source": [
    "***Que24.Python regex to find sequences of one upper case letter followed by lower case letters.***"
   ]
  },
  {
   "cell_type": "code",
   "execution_count": 6,
   "id": "848338dc-678b-4805-86f7-b8ec4ac0101d",
   "metadata": {},
   "outputs": [
    {
     "name": "stdout",
     "output_type": "stream",
     "text": [
      "['Regular', 'Expression', 'Is', 'An', 'Important', 'Topic', 'In', 'Python']\n"
     ]
    }
   ],
   "source": [
    "import re\n",
    "\n",
    "def find_sequences(text):\n",
    "    pattern = r'[A-Z][a-z]+'\n",
    "    sequences = re.findall(pattern, text)\n",
    "    return sequences\n",
    "\n",
    "sample_text = \"RegularExpressionIsAnImportantTopicInPython\"\n",
    "result = find_sequences(sample_text)\n",
    "print(result)\n"
   ]
  },
  {
   "cell_type": "markdown",
   "id": "a99ddb20-e8f4-4779-a766-6d4153d57682",
   "metadata": {},
   "source": [
    "***Que25.Write a Python program to remove continuous duplicate words from Sentence using Regular Expression.***"
   ]
  },
  {
   "cell_type": "code",
   "execution_count": 9,
   "id": "2ccced85-cc35-4739-8b79-dce36c3fce22",
   "metadata": {},
   "outputs": [
    {
     "name": "stdout",
     "output_type": "stream",
     "text": [
      "Hello hello world\n"
     ]
    }
   ],
   "source": [
    "import re\n",
    "\n",
    "def remove_continuous_duplicates(text):\n",
    "    result = re.sub(r'\\b(\\w+)\\s+\\1\\b', r'\\1', text,)\n",
    "    return result\n",
    "sample_text = \"Hello hello world world\"\n",
    "result = remove_continuous_duplicates(sample_text)\n",
    "print(result)\n"
   ]
  },
  {
   "cell_type": "markdown",
   "id": "e9082384-884b-4b38-b3c5-13414451b8a7",
   "metadata": {},
   "source": [
    "***Que26.Write a python program using RegEx to accept string ending with alphanumeric character.***"
   ]
  },
  {
   "cell_type": "code",
   "execution_count": 10,
   "id": "92e145b5-c38f-43ba-a824-1d75542f0f92",
   "metadata": {},
   "outputs": [
    {
     "name": "stdout",
     "output_type": "stream",
     "text": [
      "Valid: String ends with an alphanumeric character\n",
      "Invalid: String does not end with an alphanumeric character\n"
     ]
    }
   ],
   "source": [
    "import re\n",
    "\n",
    "def check_string(input_string):\n",
    "    pattern = r\".*[a-zA-Z0-9]$\"\n",
    "    if re.match(pattern, input_string):\n",
    "        print(\"Valid: String ends with an alphanumeric character\")\n",
    "    else:\n",
    "        print(\"Invalid: String does not end with an alphanumeric character\")\n",
    "\n",
    "check_string(\"Hello123\")  # Valid if String ends with an alphanumeric character\n",
    "check_string(\"Python$%^\")  # Invalid if String does not end with an alphanumeric character\n"
   ]
  },
  {
   "cell_type": "markdown",
   "id": "058c6f21-d4b1-4176-ad99-51d91998948e",
   "metadata": {},
   "source": [
    "***Que27.Write a python program using RegEx to extract the hashtags.***"
   ]
  },
  {
   "cell_type": "code",
   "execution_count": 11,
   "id": "c6b6c1fa-1796-4143-94e3-6b72ead2bcc4",
   "metadata": {},
   "outputs": [
    {
     "name": "stdout",
     "output_type": "stream",
     "text": [
      "['#Doltiwal', '#xyzabc', '#Demonetization']\n"
     ]
    }
   ],
   "source": [
    "import re\n",
    "\n",
    "def extract_hashtags(text):\n",
    "    hashtags = re.findall(r'#\\w+', text)\n",
    "    return hashtags\n",
    "\n",
    "text = 'RT @kapil_kausik: #Doltiwal I mean #xyzabc is \"hurt\" by #Demonetization as the same has rendered USELESS <ed><U+00A0><U+00BD><ed><U+00B1><U+0089> \"acquired funds\" No wo'\n",
    "hashtags = extract_hashtags(text)\n",
    "print(hashtags)\n"
   ]
  },
  {
   "cell_type": "markdown",
   "id": "4b36797f-5ba7-4a9f-a9bb-d170ec81ce92",
   "metadata": {},
   "source": [
    "***Que28.Write a python program using RegEx to remove <U+..> like symbols***"
   ]
  },
  {
   "cell_type": "code",
   "execution_count": 12,
   "id": "fb1283e6-221c-4752-9c2b-821e1e37c7d3",
   "metadata": {},
   "outputs": [
    {
     "name": "stdout",
     "output_type": "stream",
     "text": [
      "@Jags123456 Bharat band on 28??<ed><ed>Those who are protesting #demonetization are all different party leaders\n"
     ]
    }
   ],
   "source": [
    "import re\n",
    "\n",
    "def remove_unicode_symbols(text):\n",
    "    cleaned_text = re.sub(r'<U\\+[0-9A-Fa-f]+>', '', text)\n",
    "    return cleaned_text\n",
    "\n",
    "text = \"@Jags123456 Bharat band on 28??<ed><U+00A0><U+00BD><ed><U+00B8><U+0082>Those who are protesting #demonetization are all different party leaders\"\n",
    "cleaned_text = remove_unicode_symbols(text)\n",
    "print(cleaned_text)\n"
   ]
  },
  {
   "cell_type": "markdown",
   "id": "9b1bef3a-2f93-41fb-ad37-3c05edeb310a",
   "metadata": {},
   "source": [
    "***Que29.Write a python program to extract dates from the text stored in the text file.***"
   ]
  },
  {
   "cell_type": "code",
   "execution_count": 13,
   "id": "bf5a4c1b-9c96-4597-9d2f-ac379b61e7c3",
   "metadata": {},
   "outputs": [
    {
     "name": "stdout",
     "output_type": "stream",
     "text": [
      "['12-09-1992', '15-12-1999']\n"
     ]
    }
   ],
   "source": [
    "import re\n",
    "\n",
    "def extract_dates_from_text_file(file_path):\n",
    "    dates = []\n",
    "    with open(file_path, 'r') as file:\n",
    "        text = file.read()\n",
    "        dates = re.findall(r'\\d{2}-\\d{2}-\\d{4}', text)\n",
    "    return dates\n",
    "\n",
    "file_path = 'sample_text.txt'\n",
    "extracted_dates = extract_dates_from_text_file(file_path)\n",
    "print(extracted_dates)\n"
   ]
  },
  {
   "cell_type": "markdown",
   "id": "4f62abd4-9ab5-484b-997e-385164abce1e",
   "metadata": {},
   "source": [
    "***Que30.Create a function in python to remove all words from a string of length between 2 and 4.***"
   ]
  },
  {
   "cell_type": "code",
   "execution_count": 14,
   "id": "939e7565-a310-4b9b-b57d-d0ef3ec77bf0",
   "metadata": {},
   "outputs": [
    {
     "name": "stdout",
     "output_type": "stream",
     "text": [
      "following example creates ArrayList a capacity elements. 4 elements added ArrayList ArrayList trimmed accordingly.\n"
     ]
    }
   ],
   "source": [
    "import re\n",
    "\n",
    "def remove_words_between_lengths(text):\n",
    "    pattern = re.compile(r'\\b\\w{2,4}\\b')\n",
    "    result = pattern.sub('', text)\n",
    "    result = re.sub(r'\\s+', ' ', result)  # Remove extra spaces\n",
    "    return result.strip()\n",
    "\n",
    "sample_text = \"The following example creates an ArrayList with a capacity of 50 elements. 4 elements are then added to the ArrayList and the ArrayList is trimmed accordingly.\"\n",
    "output_text = remove_words_between_lengths(sample_text)\n",
    "print(output_text)\n"
   ]
  },
  {
   "cell_type": "code",
   "execution_count": null,
   "id": "d4bef95b-7da1-4948-8d3b-d1cc8b547c77",
   "metadata": {},
   "outputs": [],
   "source": []
  }
 ],
 "metadata": {
  "kernelspec": {
   "display_name": "Python 3 (ipykernel)",
   "language": "python",
   "name": "python3"
  },
  "language_info": {
   "codemirror_mode": {
    "name": "ipython",
    "version": 3
   },
   "file_extension": ".py",
   "mimetype": "text/x-python",
   "name": "python",
   "nbconvert_exporter": "python",
   "pygments_lexer": "ipython3",
   "version": "3.11.5"
  }
 },
 "nbformat": 4,
 "nbformat_minor": 5
}
