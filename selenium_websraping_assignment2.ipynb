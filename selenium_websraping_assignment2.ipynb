{
 "cells": [
  {
   "cell_type": "markdown",
   "id": "3c12064b-0eb6-4134-bf65-055d1063c35b",
   "metadata": {},
   "source": [
    "Q1: In this question you have to scrape data using the filters available on the webpage You have to use the location and\n",
    "salary filter.\n",
    "You have to scrape data for “Data Scientist” designation for first 10 job results.\n",
    "You have to scrape the job-title, job-location, company name, experience required.\n",
    "The location filter to be used is “Delhi/NCR”. The salary filter to be used is “3-6” lakhs\n",
    "The task will be done as shown in the below steps:\n",
    "1. first get the web page https://www.naukri.com/\n",
    "2. Enter “Data Scientist” in “Skill, Designations, and Companies” field.\n",
    "3. Then click the search button.\n",
    "4. Then apply the location filter and salary filter by checking the respective boxes\n",
    "5. Then scrape the data for the first 10 jobs results you get.\n",
    "6. Finally create a dataframe of the scraped data. "
   ]
  },
  {
   "cell_type": "code",
   "execution_count": 87,
   "id": "64204eb8-4c38-4e38-9982-0218f42dbdce",
   "metadata": {},
   "outputs": [],
   "source": [
    "import selenium\n",
    "import pandas as pd\n",
    "from selenium import webdriver\n",
    "import warnings\n",
    "warnings.filterwarnings('ignore')\n",
    "from selenium.webdriver.common.by import By\n",
    "import time"
   ]
  },
  {
   "cell_type": "code",
   "execution_count": 21,
   "id": "6ee662df-f9eb-4feb-bec8-e44ea6a83201",
   "metadata": {},
   "outputs": [],
   "source": [
    "driver=webdriver.Chrome()"
   ]
  },
  {
   "cell_type": "code",
   "execution_count": 22,
   "id": "69067242-275f-4fd4-8da1-a7c9aeeab4dd",
   "metadata": {},
   "outputs": [],
   "source": [
    "#Opening the Shine page on automated chrome brower\n",
    "driver.get(\"https://www.naukri.com/\")"
   ]
  },
  {
   "cell_type": "code",
   "execution_count": 23,
   "id": "ddd7c570-d829-4129-9b4d-d127863dcc5d",
   "metadata": {},
   "outputs": [],
   "source": [
    "#entering designation by class name\n",
    "designation=driver.find_element(By.CLASS_NAME,\"suggestor-input \")\n",
    "designation.send_keys('Data Analyst')"
   ]
  },
  {
   "cell_type": "code",
   "execution_count": 24,
   "id": "b70e3262-644a-4b87-9928-6baffdd06b74",
   "metadata": {},
   "outputs": [],
   "source": [
    "search=driver.find_element(By.XPATH,\"/html/body/div[1]/div[7]/div/div/div[6]\")\n",
    "search.click()"
   ]
  },
  {
   "cell_type": "code",
   "execution_count": 28,
   "id": "336081bf-b957-4c9e-b22e-a0985550571c",
   "metadata": {},
   "outputs": [],
   "source": [
    "salary_checkbox=driver.find_element(By.XPATH,\"/html/body/div/div/main/div[1]/div[1]/div/div/div[2]/div[1]/div[2]/div[2]/label/i\")\n",
    "salary_checkbox.click()"
   ]
  },
  {
   "cell_type": "code",
   "execution_count": 30,
   "id": "b822eac3-ec7a-4f73-8164-77b0a335f14f",
   "metadata": {},
   "outputs": [],
   "source": [
    "location_checkbox=driver.find_element(By.XPATH,\"/html/body/div/div/main/div[1]/div[1]/div/div/div[2]/div[3]/div[2]/div[2]/label/i\")\n",
    "location_checkbox.click()"
   ]
  },
  {
   "cell_type": "code",
   "execution_count": 32,
   "id": "66367916-53a0-45d7-8724-5bc596c0e24c",
   "metadata": {},
   "outputs": [],
   "source": [
    "#scraping job title from the given page\n",
    "title_tags=driver.find_elements(By.XPATH,'//a[@class=\"title \"]')\n",
    "#scraping job location from the given page\n",
    "location_tag=driver.find_elements(By.XPATH,'//span[@class=\"ni-job-tuple-icon ni-job-tuple-icon-srp-location loc\"]/span')\n",
    "#scraping company name from the given page\n",
    "company_tags=driver.find_elements(By.XPATH,'//a[@class=\" comp-name mw-25\"]')\n",
    "#scraping experience required from the given page\n",
    "experience_tags=driver.find_elements(By.XPATH,'//span[@class=\"expwdth\"]')"
   ]
  },
  {
   "cell_type": "code",
   "execution_count": 33,
   "id": "f42d3f0b-6a26-4411-bf39-75b0b3406105",
   "metadata": {},
   "outputs": [],
   "source": [
    "data = []\n",
    "for i in range(10):\n",
    "  job = {\n",
    "  'Job Title':title_tags[i].text,\n",
    "  'Job Location':location_tag[i].text,\n",
    "  'Company Name': company_tags[i].text,\n",
    "  'Experience Required': experience_tags[i].text\n",
    "  }\n",
    "  data.append(job)"
   ]
  },
  {
   "cell_type": "code",
   "execution_count": 34,
   "id": "5f59fd56-22c5-4a82-adad-cc9a1299d1df",
   "metadata": {},
   "outputs": [
    {
     "data": {
      "text/html": [
       "<div>\n",
       "<style scoped>\n",
       "    .dataframe tbody tr th:only-of-type {\n",
       "        vertical-align: middle;\n",
       "    }\n",
       "\n",
       "    .dataframe tbody tr th {\n",
       "        vertical-align: top;\n",
       "    }\n",
       "\n",
       "    .dataframe thead th {\n",
       "        text-align: right;\n",
       "    }\n",
       "</style>\n",
       "<table border=\"1\" class=\"dataframe\">\n",
       "  <thead>\n",
       "    <tr style=\"text-align: right;\">\n",
       "      <th></th>\n",
       "      <th>Job Title</th>\n",
       "      <th>Job Location</th>\n",
       "      <th>Company Name</th>\n",
       "      <th>Experience Required</th>\n",
       "    </tr>\n",
       "  </thead>\n",
       "  <tbody>\n",
       "    <tr>\n",
       "      <th>0</th>\n",
       "      <td>Data Analyst</td>\n",
       "      <td>Delhi / NCR, New Delhi, Delhi(Uttam Nagar +2)</td>\n",
       "      <td>Xpressbees</td>\n",
       "      <td>0-5 Yrs</td>\n",
       "    </tr>\n",
       "    <tr>\n",
       "      <th>1</th>\n",
       "      <td>Payer Data Analyst</td>\n",
       "      <td>Kolkata, Mumbai, New Delhi, Hyderabad, Pune, C...</td>\n",
       "      <td>Agilite</td>\n",
       "      <td>3-7 Yrs</td>\n",
       "    </tr>\n",
       "    <tr>\n",
       "      <th>2</th>\n",
       "      <td>Data Analyst</td>\n",
       "      <td>Hybrid - Delhi / NCR, Pune, Bengaluru</td>\n",
       "      <td>Incanus Technologies</td>\n",
       "      <td>1-6 Yrs</td>\n",
       "    </tr>\n",
       "    <tr>\n",
       "      <th>3</th>\n",
       "      <td>Sr. Data Analyst</td>\n",
       "      <td>Hybrid - Gurugram, Haryana</td>\n",
       "      <td>Lagozon Technologies</td>\n",
       "      <td>4-7 Yrs</td>\n",
       "    </tr>\n",
       "    <tr>\n",
       "      <th>4</th>\n",
       "      <td>Data Analyst</td>\n",
       "      <td>New Delhi</td>\n",
       "      <td>Arting Digital</td>\n",
       "      <td>1-2 Yrs</td>\n",
       "    </tr>\n",
       "    <tr>\n",
       "      <th>5</th>\n",
       "      <td></td>\n",
       "      <td>Noida</td>\n",
       "      <td>Square Yards Interior Company</td>\n",
       "      <td>1-4 Yrs</td>\n",
       "    </tr>\n",
       "    <tr>\n",
       "      <th>6</th>\n",
       "      <td></td>\n",
       "      <td>Gurugram</td>\n",
       "      <td>Agilite</td>\n",
       "      <td>1-4 Yrs</td>\n",
       "    </tr>\n",
       "    <tr>\n",
       "      <th>7</th>\n",
       "      <td></td>\n",
       "      <td>Delhi / NCR, Pune, Bengaluru</td>\n",
       "      <td>Agilite Global Solutions</td>\n",
       "      <td>2-7 Yrs</td>\n",
       "    </tr>\n",
       "    <tr>\n",
       "      <th>8</th>\n",
       "      <td>Data Analyst</td>\n",
       "      <td>Kolkata, Mumbai, New Delhi, Hyderabad, Pune, C...</td>\n",
       "      <td>Agilite Global Solutions</td>\n",
       "      <td>1-6 Yrs</td>\n",
       "    </tr>\n",
       "    <tr>\n",
       "      <th>9</th>\n",
       "      <td>Data Analyst</td>\n",
       "      <td>Noida</td>\n",
       "      <td>The Economist</td>\n",
       "      <td>1-4 Yrs</td>\n",
       "    </tr>\n",
       "  </tbody>\n",
       "</table>\n",
       "</div>"
      ],
      "text/plain": [
       "            Job Title                                       Job Location  \\\n",
       "0        Data Analyst      Delhi / NCR, New Delhi, Delhi(Uttam Nagar +2)   \n",
       "1  Payer Data Analyst  Kolkata, Mumbai, New Delhi, Hyderabad, Pune, C...   \n",
       "2        Data Analyst              Hybrid - Delhi / NCR, Pune, Bengaluru   \n",
       "3    Sr. Data Analyst                         Hybrid - Gurugram, Haryana   \n",
       "4        Data Analyst                                          New Delhi   \n",
       "5                                                                  Noida   \n",
       "6                                                               Gurugram   \n",
       "7                                           Delhi / NCR, Pune, Bengaluru   \n",
       "8        Data Analyst  Kolkata, Mumbai, New Delhi, Hyderabad, Pune, C...   \n",
       "9        Data Analyst                                              Noida   \n",
       "\n",
       "                    Company Name Experience Required  \n",
       "0                     Xpressbees             0-5 Yrs  \n",
       "1                        Agilite             3-7 Yrs  \n",
       "2           Incanus Technologies             1-6 Yrs  \n",
       "3           Lagozon Technologies             4-7 Yrs  \n",
       "4                 Arting Digital             1-2 Yrs  \n",
       "5  Square Yards Interior Company             1-4 Yrs  \n",
       "6                        Agilite             1-4 Yrs  \n",
       "7       Agilite Global Solutions             2-7 Yrs  \n",
       "8       Agilite Global Solutions             1-6 Yrs  \n",
       "9                  The Economist             1-4 Yrs  "
      ]
     },
     "execution_count": 34,
     "metadata": {},
     "output_type": "execute_result"
    }
   ],
   "source": [
    "df=pd.DataFrame(data)\n",
    "df"
   ]
  },
  {
   "cell_type": "markdown",
   "id": "d6b4dbfd-1d1a-4ef6-a601-826b3c51b274",
   "metadata": {},
   "source": [
    "Q2: Write a python program to scrape data for “Data Scientist” Job position in “Bangalore” location. You have to scrape the job-title, job-location, company_name, experience_required. You have to scrape first 10 jobs data.\n",
    "This task will be done in following steps:\n",
    "1. First get the webpage https://www.shine.com/\n",
    "2. Enter “Data Analyst” in “Job title, Skills” field and enter “Bangalore” in “enter the location” field.\n",
    "3. Then click the searchbutton.\n",
    "4. Then scrape the data for the first 10 jobs results you get.\n",
    "5. Finally create a dataframe of the scraped data. "
   ]
  },
  {
   "cell_type": "code",
   "execution_count": 41,
   "id": "675e6d3e-b6b8-4f73-84ea-47e18b52abf4",
   "metadata": {},
   "outputs": [],
   "source": [
    "driver=webdriver.Chrome()"
   ]
  },
  {
   "cell_type": "code",
   "execution_count": 42,
   "id": "017bf1d1-5323-4fe6-b1b8-bb3fc57190cd",
   "metadata": {},
   "outputs": [],
   "source": [
    "#Opening the Shine page on automated chrome brower\n",
    "driver.get(\"https://www.shine.com/\")"
   ]
  },
  {
   "cell_type": "code",
   "execution_count": 44,
   "id": "62e9802a-cea7-4e0a-9dbf-9239be735172",
   "metadata": {},
   "outputs": [],
   "source": [
    "#entering designation by class name\n",
    "designation=driver.find_element(By.CLASS_NAME,\"form-control  \")\n",
    "designation.send_keys('Data Analyst')"
   ]
  },
  {
   "cell_type": "code",
   "execution_count": 45,
   "id": "4215c8aa-d489-4153-9ee9-57374a6d39b8",
   "metadata": {},
   "outputs": [],
   "source": [
    "#entering location by XPATH\n",
    "location=driver.find_element(By.XPATH,\"/html/body/div/div[4]/div/div[2]/div[2]/div/form/div/div[1]/ul/li[2]/div/input\")\n",
    "location.send_keys('Bangalore')"
   ]
  },
  {
   "cell_type": "code",
   "execution_count": 46,
   "id": "5f6d2e48-4ed3-47c5-89f8-26e13eb13562",
   "metadata": {},
   "outputs": [],
   "source": [
    "search=driver.find_element(By.XPATH,\"/html/body/div/div[4]/div/div[2]/div[2]/div/form/div/div[2]/div/button\")\n",
    "search.click()"
   ]
  },
  {
   "cell_type": "code",
   "execution_count": 47,
   "id": "b325139c-cd8b-4934-a7aa-4a79d4240b1e",
   "metadata": {},
   "outputs": [],
   "source": [
    "#scraping job title from the given page\n",
    "title_tags=driver.find_elements(By.CLASS_NAME,\"jobCard_pReplaceH2__xWmHg\")\n",
    "#scraping job location from the given page\n",
    "location_tag=driver.find_elements(By.XPATH,'//div[@class=\" jobCard_jobCard_lists_item__YxRkV jobCard_locationIcon__zrWt2\"]')\n",
    "#scraping company name from the given page\n",
    "company_tags=driver.find_elements(By.XPATH,'//div[@class=\"jobCard_jobCard_cName__mYnow\"]')\n",
    "#scraping experience required from the given page\n",
    "experience_tags=driver.find_elements(By.XPATH,'//div[@class=\" jobCard_jobCard_lists_item__YxRkV jobCard_jobIcon__3FB1t\"]')"
   ]
  },
  {
   "cell_type": "code",
   "execution_count": 48,
   "id": "9dfc9895-4cad-4511-af60-af7692bb7351",
   "metadata": {},
   "outputs": [],
   "source": [
    "data = []\n",
    "for i in range(10):\n",
    "  job = {\n",
    "  'Job Title':title_tags[i].text,\n",
    "  'Job Location':location_tag[i].text,\n",
    "  'Company Name': company_tags[i].text,\n",
    "  'Experience Required': experience_tags[i].text\n",
    "  }\n",
    "  data.append(job)"
   ]
  },
  {
   "cell_type": "code",
   "execution_count": 49,
   "id": "04b83b01-a90c-4d6b-be4a-74c764a456f0",
   "metadata": {},
   "outputs": [
    {
     "data": {
      "text/html": [
       "<div>\n",
       "<style scoped>\n",
       "    .dataframe tbody tr th:only-of-type {\n",
       "        vertical-align: middle;\n",
       "    }\n",
       "\n",
       "    .dataframe tbody tr th {\n",
       "        vertical-align: top;\n",
       "    }\n",
       "\n",
       "    .dataframe thead th {\n",
       "        text-align: right;\n",
       "    }\n",
       "</style>\n",
       "<table border=\"1\" class=\"dataframe\">\n",
       "  <thead>\n",
       "    <tr style=\"text-align: right;\">\n",
       "      <th></th>\n",
       "      <th>Job Title</th>\n",
       "      <th>Job Location</th>\n",
       "      <th>Company Name</th>\n",
       "      <th>Experience Required</th>\n",
       "    </tr>\n",
       "  </thead>\n",
       "  <tbody>\n",
       "    <tr>\n",
       "      <th>0</th>\n",
       "      <td>Data Analyst (Power BI, Python, SQL)- Internal...</td>\n",
       "      <td>Bangalore</td>\n",
       "      <td>talent leads hr solutions pvt ltd</td>\n",
       "      <td>3 to 8 Yrs</td>\n",
       "    </tr>\n",
       "    <tr>\n",
       "      <th>1</th>\n",
       "      <td>Data Analyst</td>\n",
       "      <td>Bangalore\\n+12</td>\n",
       "      <td>millennium babycares private limite...</td>\n",
       "      <td>9 to 14 Yrs</td>\n",
       "    </tr>\n",
       "    <tr>\n",
       "      <th>2</th>\n",
       "      <td>Clinical Data Analyst</td>\n",
       "      <td>Bangalore\\n+6</td>\n",
       "      <td>techno endura</td>\n",
       "      <td>0 to 1 Yr</td>\n",
       "    </tr>\n",
       "    <tr>\n",
       "      <th>3</th>\n",
       "      <td>Data Analyst</td>\n",
       "      <td>Bangalore\\n+9</td>\n",
       "      <td>sahast sales corporation</td>\n",
       "      <td>12 to 22 Yrs</td>\n",
       "    </tr>\n",
       "    <tr>\n",
       "      <th>4</th>\n",
       "      <td>Data Governance Analyst</td>\n",
       "      <td>Bangalore</td>\n",
       "      <td>white horse manpower consultancy (p...</td>\n",
       "      <td>5 to 8 Yrs</td>\n",
       "    </tr>\n",
       "    <tr>\n",
       "      <th>5</th>\n",
       "      <td>Data Analyst</td>\n",
       "      <td>Bangalore\\n+9</td>\n",
       "      <td>sahast sales corporation</td>\n",
       "      <td>12 to 22 Yrs</td>\n",
       "    </tr>\n",
       "    <tr>\n",
       "      <th>6</th>\n",
       "      <td>Hiring For Data Analyst</td>\n",
       "      <td>Bangalore\\n+12</td>\n",
       "      <td>radhika enterprises</td>\n",
       "      <td>0 to 4 Yrs</td>\n",
       "    </tr>\n",
       "    <tr>\n",
       "      <th>7</th>\n",
       "      <td>Azure Data engineer</td>\n",
       "      <td>Bangalore\\n+4</td>\n",
       "      <td>capgemini technology services india...</td>\n",
       "      <td>6 to 10 Yrs</td>\n",
       "    </tr>\n",
       "    <tr>\n",
       "      <th>8</th>\n",
       "      <td>Oracle Utilities (customer care &amp; Billing) CC&amp;...</td>\n",
       "      <td>Bangalore\\n+2</td>\n",
       "      <td>ltimindtree limited</td>\n",
       "      <td>5 to 9 Yrs</td>\n",
       "    </tr>\n",
       "    <tr>\n",
       "      <th>9</th>\n",
       "      <td>Clinical Data Analyst</td>\n",
       "      <td>Bangalore\\n+6</td>\n",
       "      <td>techno endura</td>\n",
       "      <td>0 to 1 Yr</td>\n",
       "    </tr>\n",
       "  </tbody>\n",
       "</table>\n",
       "</div>"
      ],
      "text/plain": [
       "                                           Job Title    Job Location  \\\n",
       "0  Data Analyst (Power BI, Python, SQL)- Internal...       Bangalore   \n",
       "1                                       Data Analyst  Bangalore\\n+12   \n",
       "2                              Clinical Data Analyst   Bangalore\\n+6   \n",
       "3                                       Data Analyst   Bangalore\\n+9   \n",
       "4                            Data Governance Analyst       Bangalore   \n",
       "5                                       Data Analyst   Bangalore\\n+9   \n",
       "6                            Hiring For Data Analyst  Bangalore\\n+12   \n",
       "7                                Azure Data engineer   Bangalore\\n+4   \n",
       "8  Oracle Utilities (customer care & Billing) CC&...   Bangalore\\n+2   \n",
       "9                              Clinical Data Analyst   Bangalore\\n+6   \n",
       "\n",
       "                             Company Name Experience Required  \n",
       "0       talent leads hr solutions pvt ltd          3 to 8 Yrs  \n",
       "1  millennium babycares private limite...         9 to 14 Yrs  \n",
       "2                           techno endura           0 to 1 Yr  \n",
       "3                sahast sales corporation        12 to 22 Yrs  \n",
       "4  white horse manpower consultancy (p...          5 to 8 Yrs  \n",
       "5                sahast sales corporation        12 to 22 Yrs  \n",
       "6                     radhika enterprises          0 to 4 Yrs  \n",
       "7  capgemini technology services india...         6 to 10 Yrs  \n",
       "8                     ltimindtree limited          5 to 9 Yrs  \n",
       "9                           techno endura           0 to 1 Yr  "
      ]
     },
     "execution_count": 49,
     "metadata": {},
     "output_type": "execute_result"
    }
   ],
   "source": [
    "df=pd.DataFrame(data)\n",
    "df"
   ]
  },
  {
   "cell_type": "markdown",
   "id": "9c682744-97c2-4fe5-b892-92bda38b4578",
   "metadata": {},
   "source": [
    "Q3: Scrape 100 reviews data from flipkart.com for iphone11 phone. You have to go the link:\n",
    "https://www.flipkart.com/apple-iphone-11-black-64-gb/productreviews/itm4e5041ba101fd?pid=MOBFWQ6BXGJCEYNY&lid=LSTMOBFWQ6BXGJCEYNYZXSHRJ&marketplace=FLIPKART\n",
    "As shown in the above page you have to scrape the tick marked attributes. These are:\r\n",
    "1. Rating\r\n",
    "2. Review summary\r\n",
    "3. Full review\r\n",
    "4. You have to scrape this data for first 100reviews.\r"
   ]
  },
  {
   "cell_type": "code",
   "execution_count": 2,
   "id": "1e5c2cff-cea8-4087-926e-bde22cec39fa",
   "metadata": {},
   "outputs": [],
   "source": [
    "driver=webdriver.Chrome()"
   ]
  },
  {
   "cell_type": "code",
   "execution_count": 3,
   "id": "66b7bd3c-a828-4e91-a317-64ef63d1daee",
   "metadata": {},
   "outputs": [],
   "source": [
    "driver.get(\"https://www.flipkart.com/apple-iphone-11-black-64-gb/product-reviews/itm4e5041ba101fd?pid=MOBFWQ6BXGJCEYNY&lid=LSTMOBFWQ6BXGJCEYNYIJLDFV&marketplace=FLIPKART\")"
   ]
  },
  {
   "cell_type": "code",
   "execution_count": 4,
   "id": "495800f7-1718-474d-b611-3e5ff9099577",
   "metadata": {},
   "outputs": [],
   "source": [
    "Rating=[]\n",
    "Review_summary=[]\n",
    "Full_review=[]"
   ]
  },
  {
   "cell_type": "code",
   "execution_count": 8,
   "id": "0833df9c-d28a-432d-aa26-3bf28ba152ac",
   "metadata": {},
   "outputs": [
    {
     "name": "stdout",
     "output_type": "stream",
     "text": [
      "120\n",
      "128\n",
      "131\n",
      "136\n",
      "142\n",
      "148\n",
      "152\n",
      "157\n",
      "162\n",
      "168\n",
      "174\n"
     ]
    }
   ],
   "source": [
    "# Scraping 100 reviews\n",
    "for page in range(1,12):\n",
    "        \n",
    "    rating = driver.find_elements(By.XPATH,'//div[@class=\"_3LWZlK _1BLPMq\"]')\n",
    "    review = driver.find_elements(By.XPATH,'//p[@class=\"_2-N8zT\"]')\n",
    "    freview = driver.find_elements(By.XPATH,'//div[@class=\"t-ZTKy\"]')\n",
    "\n",
    "    for k in rating:\n",
    "        Rating.append(k.text)\n",
    "\n",
    "    for i in review:\n",
    "        Review_summary.append(i.text)\n",
    "\n",
    "    for j in freview:\n",
    "        Full_review.append(j.text)\n",
    "    time.sleep(3)\n",
    "\n",
    "    print(len(Review_summary))\n",
    "    \n",
    "    nxt_page = driver.find_elements(By.XPATH,'//a[@class=\"_1LKTO3\"]')\n",
    "    try:\n",
    "        driver.get(nxt_page[1].get_attribute('href'))\n",
    "    except:\n",
    "        driver.get(nxt_page[0].get_attribute('href'))"
   ]
  },
  {
   "cell_type": "code",
   "execution_count": 10,
   "id": "efb93e60-8a62-416d-9d2d-cdbaf8253d2b",
   "metadata": {},
   "outputs": [
    {
     "name": "stdout",
     "output_type": "stream",
     "text": [
      "   Rating       Review Summary  \\\n",
      "0       5            Excellent   \n",
      "1       5     Perfect product!   \n",
      "2       5    Worth every penny   \n",
      "3       5  Best in the market!   \n",
      "4       5            Wonderful   \n",
      "..    ...                  ...   \n",
      "95      5       Simply awesome   \n",
      "96      4      Value-for-money   \n",
      "97      5            Just wow!   \n",
      "98      5               Super!   \n",
      "99      5        Great product   \n",
      "\n",
      "                                          Full Review  \n",
      "0                                                 NYC  \n",
      "1                                        Photos super  \n",
      "2   Feeling awesome after getting the delivery of ...  \n",
      "3                                         Good Camera  \n",
      "4                              This is amazing at all  \n",
      "..                                                ...  \n",
      "95             over all its nice.. color... purple. 😍  \n",
      "96  Just got this iphone 11\\nAnd it is most powerf...  \n",
      "97                                    Excellent Phone  \n",
      "98  Did an upgrade from 6s plus to iphone 11.\\nAo ...  \n",
      "99                                     Superb Phone..  \n",
      "\n",
      "[100 rows x 3 columns]\n"
     ]
    }
   ],
   "source": [
    "Review_Iphone11= pd.DataFrame({})\n",
    "Review_Iphone11['Rating'] = Rating[:100]\n",
    "Review_Iphone11['Review Summary'] = Review_summary[:100] \n",
    "Review_Iphone11['Full Review'] = Full_review[:100]\n",
    "print(Review_Iphone11)"
   ]
  },
  {
   "cell_type": "markdown",
   "id": "b9f2c95b-6105-4acd-ada7-c81c67922ddd",
   "metadata": {},
   "source": [
    "Q4: Scrape data forfirst 100 sneakers you find whenyouvisitflipkart.com and search for “sneakers” in the search \n",
    "field\r\n",
    "You have to scrape 3 attribut s of each sneaker:\r\n",
    "1. Brand\r\n",
    "2. ProductDescription\r\n",
    "3. Price"
   ]
  },
  {
   "cell_type": "code",
   "execution_count": 14,
   "id": "523895b9-c604-4788-8022-f1330eea5394",
   "metadata": {},
   "outputs": [],
   "source": [
    "driver=webdriver.Chrome()"
   ]
  },
  {
   "cell_type": "code",
   "execution_count": 15,
   "id": "b4200f2f-9d57-4c7e-8ef0-2c53925c43b3",
   "metadata": {},
   "outputs": [],
   "source": [
    "driver.get(\"https://www.flipkart.com/\")"
   ]
  },
  {
   "cell_type": "code",
   "execution_count": 6,
   "id": "d002369c-2bf4-40a4-9adc-9f60f9468744",
   "metadata": {},
   "outputs": [],
   "source": [
    "product=driver.find_element(By.XPATH,'/html/body/div[1]/div/div[1]/div/div/div/div/div[1]/div/div[1]/div/div[1]/div[1]/header/div[1]/div[2]/form/div/div/input')\n",
    "product.send_keys('sneakers')"
   ]
  },
  {
   "cell_type": "code",
   "execution_count": 7,
   "id": "999ad9be-ca82-44c7-a697-98f901bc424b",
   "metadata": {},
   "outputs": [],
   "source": [
    "search=driver.find_element(By.XPATH,'/html/body/div[1]/div/div[1]/div/div/div/div/div[1]/div/div[1]/div/div[1]/div[1]/header/div[1]/div[2]/form/div/button')\n",
    "search.click()"
   ]
  },
  {
   "cell_type": "code",
   "execution_count": 8,
   "id": "051ce075-a7de-4758-99dc-2da73048a080",
   "metadata": {},
   "outputs": [],
   "source": [
    "#creating the empty lists\n",
    "Brand=[]\n",
    "Product_Description=[]\n",
    "Price=[]"
   ]
  },
  {
   "cell_type": "code",
   "execution_count": 9,
   "id": "379d8e12-3357-4aca-9299-4d5058326a82",
   "metadata": {},
   "outputs": [],
   "source": [
    "# Scraping URl of 100 Sneakers\n",
    "URL=[]\n",
    "for i in range(0,3):\n",
    "    Sneakers_url=driver.find_elements(By.XPATH,'//a[@class=\"_2UzuFa\"]')\n",
    "    for i in Sneakers_url:\n",
    "        URL.append(i.get_attribute('href'))\n",
    "    # Clicking on NEXT button at end of page\n",
    "    driver.find_element(By.XPATH,'//a[@class=\"ge-49M\"]').click()\n",
    "    time.sleep(4)"
   ]
  },
  {
   "cell_type": "code",
   "execution_count": 10,
   "id": "eb586ec9-dfb4-4cef-ac18-b58918244710",
   "metadata": {},
   "outputs": [
    {
     "data": {
      "text/plain": [
       "['https://www.flipkart.com/urbanbox-trending-stylish-casual-outdoor-shoes-sneakers-men/p/itm20f1e7caa80e8?pid=SHOGP8QHSXYRN7FU&lid=LSTSHOGP8QHSXYRN7FUWJM9HY&marketplace=FLIPKART&q=sneakers&store=osp&srno=s_1_1&otracker=search&otracker1=search&fm=organic&iid=en_u3bKThp7okbx0ACffkacaryapraQssLDlEWIy6so7bJAYjeGWQ8DOVGMldRJhjtkUs-RH-335jc05kguPGepfA%3D%3D&ppt=hp&ppn=homepage&ssid=vt6spwsd4g0000001712852837504&qH=a1743c0d39461290',\n",
       " 'https://www.flipkart.com/bruton-2-combo-sneaker-shoes-sneakers-men/p/itm636fec504f7cd?pid=SHOGHMDPYG9GBXHB&lid=LSTSHOGHMDPYG9GBXHBPIDJQQ&marketplace=FLIPKART&q=sneakers&store=osp&srno=s_1_2&otracker=search&otracker1=search&fm=organic&iid=en_u3bKThp7okbx0ACffkacaryapraQssLDlEWIy6so7bJPg5tWNfb2rtXSXcybruMWB5BtTs3IrPEaL7IeFqZ8xw%3D%3D&ppt=hp&ppn=homepage&ssid=vt6spwsd4g0000001712852837504&qH=a1743c0d39461290',\n",
       " 'https://www.flipkart.com/urbanbox-trending-stylish-casual-outdoor-shoes-sneakers-men/p/itm20f1e7caa80e8?pid=SHOGP8QUMPEYXDWX&lid=LSTSHOGP8QUMPEYXDWXQ4MXXV&marketplace=FLIPKART&q=sneakers&store=osp&spotlightTagId=BestsellerId_osp&srno=s_1_3&otracker=search&otracker1=search&fm=Search&iid=30178396-4369-42e9-bde8-da392e9f5285.SHOGP8QUMPEYXDWX.SEARCH&ppt=sp&ppn=sp&ssid=vt6spwsd4g0000001712852837504&qH=a1743c0d39461290',\n",
       " 'https://www.flipkart.com/deals4you-sneakers-women/p/itmd1241f2f24eb8?pid=SHOG7PJ6CBYM4AVD&lid=LSTSHOG7PJ6CBYM4AVDGU3MZK&marketplace=FLIPKART&q=sneakers&store=osp&srno=s_1_4&otracker=search&otracker1=search&fm=organic&iid=30178396-4369-42e9-bde8-da392e9f5285.SHOG7PJ6CBYM4AVD.SEARCH&ppt=hp&ppn=homepage&ssid=vt6spwsd4g0000001712852837504&qH=a1743c0d39461290',\n",
       " 'https://www.flipkart.com/layasa-sneakers-men/p/itm033899612ce4c?pid=SHOGHM9RUZ9WTEBZ&lid=LSTSHOGHM9RUZ9WTEBZ92ZQXN&marketplace=FLIPKART&q=sneakers&store=osp&srno=s_1_5&otracker=search&otracker1=search&fm=organic&iid=30178396-4369-42e9-bde8-da392e9f5285.SHOGHM9RUZ9WTEBZ.SEARCH&ppt=hp&ppn=homepage&ssid=vt6spwsd4g0000001712852837504&qH=a1743c0d39461290',\n",
       " 'https://www.flipkart.com/robbie-jones-casual-sneakers-colour-blocked-shoes-boys-men/p/itm5e82283c718fc?pid=SHOGNGK27BDKAWH4&lid=LSTSHOGNGK27BDKAWH486AHIY&marketplace=FLIPKART&q=sneakers&store=osp&srno=s_1_6&otracker=search&otracker1=search&fm=organic&iid=30178396-4369-42e9-bde8-da392e9f5285.SHOGNGK27BDKAWH4.SEARCH&ppt=hp&ppn=homepage&ssid=vt6spwsd4g0000001712852837504&qH=a1743c0d39461290',\n",
       " 'https://www.flipkart.com/bruton-combo-pack-2-trendy-stylish-casual-shoes-sneakers-men/p/itmca57f9a2b302b?pid=SHOGYYYRAZPCGNBB&lid=LSTSHOGYYYRAZPCGNBBAWBFSX&marketplace=FLIPKART&q=sneakers&store=osp&srno=s_1_7&otracker=search&otracker1=search&fm=organic&iid=en_u3bKThp7okbx0ACffkacaryapraQssLDlEWIy6so7bI-DjaspBTZgvhyPRy_JqViruncbp-g4jTYt18shmYoAg%3D%3D&ppt=hp&ppn=homepage&ssid=vt6spwsd4g0000001712852837504&qH=a1743c0d39461290',\n",
       " 'https://www.flipkart.com/bruton-combo-pack-2-casual-shoes-sneakers-men/p/itm20d7304f62cfc?pid=SHOGGFT6QZ4JB6K9&lid=LSTSHOGGFT6QZ4JB6K9WOOJJO&marketplace=FLIPKART&q=sneakers&store=osp&srno=s_1_8&otracker=search&otracker1=search&fm=organic&iid=en_u3bKThp7okbx0ACffkacaryapraQssLDlEWIy6so7bKbwlTCY9ja6h913M2tRJ1J16ROlEPQoskBLMAwiwDt2g%3D%3D&ppt=hp&ppn=homepage&ssid=vt6spwsd4g0000001712852837504&qH=a1743c0d39461290',\n",
       " 'https://www.flipkart.com/m7-metronaut-claire-01-sneakers-women/p/itm775c68b89cd49?pid=SHOGUFUXEKCEDNVP&lid=LSTSHOGUFUXEKCEDNVPXHKFAU&marketplace=FLIPKART&q=sneakers&store=osp&srno=s_1_9&otracker=search&otracker1=search&fm=organic&iid=30178396-4369-42e9-bde8-da392e9f5285.SHOGUFUXEKCEDNVP.SEARCH&ppt=hp&ppn=homepage&ssid=vt6spwsd4g0000001712852837504&qH=a1743c0d39461290',\n",
       " 'https://www.flipkart.com/puma-flyumph-sneakers-men/p/itm74d7e6433619c?pid=SHOGQAZDYT274YFY&lid=LSTSHOGQAZDYT274YFY3SFJE3&marketplace=FLIPKART&q=sneakers&store=osp&srno=s_1_10&otracker=search&otracker1=search&fm=organic&iid=30178396-4369-42e9-bde8-da392e9f5285.SHOGQAZDYT274YFY.SEARCH&ppt=hp&ppn=homepage&ssid=vt6spwsd4g0000001712852837504&qH=a1743c0d39461290',\n",
       " 'https://www.flipkart.com/bruton-2-combo-sneaker-shoes-sneakers-men/p/itm7d7ff9598d62e?pid=SHOGGG5HMUTZ3D8Q&lid=LSTSHOGGG5HMUTZ3D8Q0E7G8P&marketplace=FLIPKART&q=sneakers&store=osp&srno=s_1_11&otracker=search&otracker1=search&fm=organic&iid=en_u3bKThp7okbx0ACffkacaryapraQssLDlEWIy6so7bJ4ma-jknneexMfrLcCH9D2e2xEzVO0YnGwQLCFp07JSg%3D%3D&ppt=hp&ppn=homepage&ssid=vt6spwsd4g0000001712852837504&qH=a1743c0d39461290',\n",
       " 'https://www.flipkart.com/bruton-combo-pack-2-trendy-mens-casual-shoes-sneakers-men/p/itmc671946a46b74?pid=SHOGFHZQWYQ33GJN&lid=LSTSHOGFHZQWYQ33GJN9N60XH&marketplace=FLIPKART&q=sneakers&store=osp&srno=s_1_12&otracker=search&otracker1=search&fm=organic&iid=en_u3bKThp7okbx0ACffkacaryapraQssLDlEWIy6so7bIM9oXlXxzG_OEp-k7OPq6n6QYa63X5I5M8c2jG7iz31w%3D%3D&ppt=hp&ppn=homepage&ssid=vt6spwsd4g0000001712852837504&qH=a1743c0d39461290',\n",
       " 'https://www.flipkart.com/atom-spring-edge-alpha-2-sneakers-men/p/itm74ce4c7c2d4b9?pid=SHOGHYV8UNHFHZS8&lid=LSTSHOGHYV8UNHFHZS8KXOFTL&marketplace=FLIPKART&q=sneakers&store=osp&srno=s_1_13&otracker=search&otracker1=search&fm=organic&iid=30178396-4369-42e9-bde8-da392e9f5285.SHOGHYV8UNHFHZS8.SEARCH&ppt=hp&ppn=homepage&ssid=vt6spwsd4g0000001712852837504&qH=a1743c0d39461290',\n",
       " 'https://www.flipkart.com/puma-player-sneakers-men/p/itmb83d482da9b5a?pid=SHOG7CCJTUU7VBGG&lid=LSTSHOG7CCJTUU7VBGG33EFIC&marketplace=FLIPKART&q=sneakers&store=osp&srno=s_1_14&otracker=search&otracker1=search&fm=organic&iid=30178396-4369-42e9-bde8-da392e9f5285.SHOG7CCJTUU7VBGG.SEARCH&ppt=hp&ppn=homepage&ssid=vt6spwsd4g0000001712852837504&qH=a1743c0d39461290',\n",
       " 'https://www.flipkart.com/hida-sneakers-women/p/itm720839088f78c?pid=SHOGZGJ4W6FHFJS3&lid=LSTSHOGZGJ4W6FHFJS3MPXB9O&marketplace=FLIPKART&q=sneakers&store=osp&srno=s_1_15&otracker=search&otracker1=search&fm=organic&iid=30178396-4369-42e9-bde8-da392e9f5285.SHOGZGJ4W6FHFJS3.SEARCH&ppt=hp&ppn=homepage&ssid=vt6spwsd4g0000001712852837504&qH=a1743c0d39461290',\n",
       " 'https://www.flipkart.com/asian-carnival-02-mens-high-top-casual-chunky-sneakers-men/p/itm45df352810915?pid=SHOGMYKSD8VQWGB9&lid=LSTSHOGMYKSD8VQWGB9MTUEXV&marketplace=FLIPKART&q=sneakers&store=osp&srno=s_1_16&otracker=search&otracker1=search&fm=organic&iid=30178396-4369-42e9-bde8-da392e9f5285.SHOGMYKSD8VQWGB9.SEARCH&ppt=hp&ppn=homepage&ssid=vt6spwsd4g0000001712852837504&qH=a1743c0d39461290',\n",
       " 'https://www.flipkart.com/bruton-modern-trendy-shoes-sneakers-men/p/itm286e1cdffa557?pid=SHOGEQF4HZVQFVXU&lid=LSTSHOGEQF4HZVQFVXUZV03KH&marketplace=FLIPKART&q=sneakers&store=osp&srno=s_1_17&otracker=search&otracker1=search&fm=organic&iid=en_u3bKThp7okbx0ACffkacaryapraQssLDlEWIy6so7bITamKrs8zKeIbgcxC7xRf6wUp1wZ0hkWKxrOcpoUwaDw%3D%3D&ppt=hp&ppn=homepage&ssid=vt6spwsd4g0000001712852837504&qH=a1743c0d39461290',\n",
       " 'https://www.flipkart.com/bruton-combo-pack-2-casual-shoes-sneakers-men/p/itmc117a926294bc?pid=SHOGGG5GWHKGJV3A&lid=LSTSHOGGG5GWHKGJV3A0BSHG2&marketplace=FLIPKART&q=sneakers&store=osp&srno=s_1_18&otracker=search&otracker1=search&fm=organic&iid=en_u3bKThp7okbx0ACffkacaryapraQssLDlEWIy6so7bLnFNMMI_b2jPwrbtKVDk6EvLqmi7bxryqGUeE1a71NUA%3D%3D&ppt=hp&ppn=homepage&ssid=vt6spwsd4g0000001712852837504&qH=a1743c0d39461290',\n",
       " 'https://www.flipkart.com/peelu-new-ogiy-retro-shoes-high-premium-quality-women-men-kids-unisex-sneakers/p/itm17ef9b5d8deee?pid=SHOGW823E4BUBTJG&lid=LSTSHOGW823E4BUBTJGR8HKOV&marketplace=FLIPKART&q=sneakers&store=osp&srno=s_1_19&otracker=search&otracker1=search&fm=organic&iid=30178396-4369-42e9-bde8-da392e9f5285.SHOGW823E4BUBTJG.SEARCH&ppt=hp&ppn=homepage&ssid=vt6spwsd4g0000001712852837504&qH=a1743c0d39461290',\n",
       " 'https://www.flipkart.com/goldstar-612-sneakers-men/p/itm01224019c1bc6?pid=SHOGX7KVM4WMUJVS&lid=LSTSHOGX7KVM4WMUJVSQ94STM&marketplace=FLIPKART&q=sneakers&store=osp&srno=s_1_20&otracker=search&otracker1=search&fm=organic&iid=30178396-4369-42e9-bde8-da392e9f5285.SHOGX7KVM4WMUJVS.SEARCH&ppt=hp&ppn=homepage&ssid=vt6spwsd4g0000001712852837504&qH=a1743c0d39461290',\n",
       " 'https://www.flipkart.com/bruton-combo-pack-2-casual-shoes-sneakers-men/p/itm5b1f802687778?pid=SHOGGG5HRAHGBJMB&lid=LSTSHOGGG5HRAHGBJMBASHDBH&marketplace=FLIPKART&q=sneakers&store=osp&srno=s_1_21&otracker=search&otracker1=search&fm=organic&iid=en_u3bKThp7okbx0ACffkacaryapraQssLDlEWIy6so7bK6MQy_UlYD1tuHTTM0Spag5i_sHFVsgBAIl5GI7gxBKw%3D%3D&ppt=hp&ppn=homepage&ssid=vt6spwsd4g0000001712852837504&qH=a1743c0d39461290',\n",
       " 'https://www.flipkart.com/bruton-combo-pack-4-casual-loafer-shoes-sneakers-men/p/itmc6896607b3f0f?pid=SHOFUXXZZEU8Z3E6&lid=LSTSHOFUXXZZEU8Z3E68COZPZ&marketplace=FLIPKART&q=sneakers&store=osp&srno=s_1_22&otracker=search&otracker1=search&fm=organic&iid=en_u3bKThp7okbx0ACffkacaryapraQssLDlEWIy6so7bIm4UVNeInLFPCDPvfjUTzvXffj1RtcqgGoYBUxqzvsTA%3D%3D&ppt=hp&ppn=homepage&ssid=vt6spwsd4g0000001712852837504&qH=a1743c0d39461290',\n",
       " 'https://www.flipkart.com/puma-seattle-sneakers-men/p/itm8351437d640eb?pid=SHOGQAZD79MFWAGH&lid=LSTSHOGQAZD79MFWAGHRSROOP&marketplace=FLIPKART&q=sneakers&store=osp&srno=s_1_23&otracker=search&otracker1=search&fm=organic&iid=30178396-4369-42e9-bde8-da392e9f5285.SHOGQAZD79MFWAGH.SEARCH&ppt=hp&ppn=homepage&ssid=vt6spwsd4g0000001712852837504&qH=a1743c0d39461290',\n",
       " 'https://www.flipkart.com/puma-rideric-sneakers-men/p/itm09152f7fc6d6d?pid=SHOGHQ8MMESJQ7TW&lid=LSTSHOGHQ8MMESJQ7TWKJVEDJ&marketplace=FLIPKART&q=sneakers&store=osp&srno=s_1_24&otracker=search&otracker1=search&fm=organic&iid=30178396-4369-42e9-bde8-da392e9f5285.SHOGHQ8MMESJQ7TW.SEARCH&ppt=hp&ppn=homepage&ssid=vt6spwsd4g0000001712852837504&qH=a1743c0d39461290',\n",
       " 'https://www.flipkart.com/urbanbox-stylish-trending-outdoor-walking-comfortable-sneakers-men/p/itm441edfb2d655c?pid=SHOGMZZC36HXZFRB&lid=LSTSHOGMZZC36HXZFRBELTPIW&marketplace=FLIPKART&q=sneakers&store=osp&srno=s_1_25&otracker=search&otracker1=search&fm=organic&iid=30178396-4369-42e9-bde8-da392e9f5285.SHOGMZZC36HXZFRB.SEARCH&ppt=hp&ppn=homepage&ssid=vt6spwsd4g0000001712852837504&qH=a1743c0d39461290',\n",
       " 'https://www.flipkart.com/asian-tarzan-05-white-sneakers-casuals-loafers-stylish-extra-comfort-sneakers-men/p/itm78f09a3f596b0?pid=SHOGQSB5HHTEQJZX&lid=LSTSHOGQSB5HHTEQJZXJPYGE8&marketplace=FLIPKART&q=sneakers&store=osp&srno=s_1_26&otracker=search&otracker1=search&fm=organic&iid=30178396-4369-42e9-bde8-da392e9f5285.SHOGQSB5HHTEQJZX.SEARCH&ppt=hp&ppn=homepage&ssid=vt6spwsd4g0000001712852837504&qH=a1743c0d39461290',\n",
       " 'https://www.flipkart.com/bruton-combo-pack-of-2-casual-shoes-sneakers-men/p/itm3db79b9b05cba?pid=SHOGGG5HHZH3NPYH&lid=LSTSHOGGG5HHZH3NPYHU1WCGR&marketplace=FLIPKART&q=sneakers&store=osp&srno=s_1_27&otracker=search&otracker1=search&fm=organic&iid=en_u3bKThp7okbx0ACffkacaryapraQssLDlEWIy6so7bJl8sRUMUtcUxpeZYDZHS_-Xu7WD8gEh7awHx1FFQ9BJQ%3D%3D&ppt=hp&ppn=homepage&ssid=vt6spwsd4g0000001712852837504&qH=a1743c0d39461290',\n",
       " 'https://www.flipkart.com/deals4you-sneakers-women/p/itm47b0c0e22498b?pid=SHOGGQFZD9G3C5YU&lid=LSTSHOGGQFZD9G3C5YUXKR0YU&marketplace=FLIPKART&q=sneakers&store=osp&srno=s_1_28&otracker=search&otracker1=search&fm=organic&iid=en_u3bKThp7okbx0ACffkacaryapraQssLDlEWIy6so7bLKGnNXABAiXs8JZ3uJ2p9Cu9u9fkcU4p4cc86-siKqxw%3D%3D&ppt=hp&ppn=homepage&ssid=vt6spwsd4g0000001712852837504&qH=a1743c0d39461290',\n",
       " 'https://www.flipkart.com/puma-resolve-modern-sneakers-men/p/itmee40cedfdd492?pid=SHOGMF7ZWGJXZPKA&lid=LSTSHOGMF7ZWGJXZPKAFRB0HM&marketplace=FLIPKART&q=sneakers&store=osp&srno=s_1_29&otracker=search&otracker1=search&fm=organic&iid=30178396-4369-42e9-bde8-da392e9f5285.SHOGMF7ZWGJXZPKA.SEARCH&ppt=hp&ppn=homepage&ssid=vt6spwsd4g0000001712852837504&qH=a1743c0d39461290',\n",
       " 'https://www.flipkart.com/bruton-lite-casual-shoes-sneakers-men/p/itm853bc02808e94?pid=SHOGYJE2H8T246Y2&lid=LSTSHOGYJE2H8T246Y2PYLSGQ&marketplace=FLIPKART&q=sneakers&store=osp&srno=s_1_30&otracker=search&otracker1=search&fm=organic&iid=30178396-4369-42e9-bde8-da392e9f5285.SHOGYJE2H8T246Y2.SEARCH&ppt=hp&ppn=homepage&ssid=vt6spwsd4g0000001712852837504&qH=a1743c0d39461290',\n",
       " 'https://www.flipkart.com/run-seven-go21-soft-insole-slip-resistance-walking-casual-sneakers-men/p/itmda31178495dd8?pid=SHOGQEBM8T42GCPF&lid=LSTSHOGQEBM8T42GCPFOJCG1X&marketplace=FLIPKART&q=sneakers&store=osp&srno=s_1_31&otracker=search&otracker1=search&fm=organic&iid=en_u3bKThp7okbx0ACffkacaryapraQssLDlEWIy6so7bLvhN1nUME1rJ9H92vDw4iVn540tgo74Bbapmq1uYS5Tg%3D%3D&ppt=hp&ppn=homepage&ssid=vt6spwsd4g0000001712852837504&qH=a1743c0d39461290',\n",
       " 'https://www.flipkart.com/atom-alpha-predator-sneakers-men/p/itm5f54aa946a64e?pid=SHOGS9KD262SGCBS&lid=LSTSHOGS9KD262SGCBSADYVLI&marketplace=FLIPKART&q=sneakers&store=osp&srno=s_1_32&otracker=search&otracker1=search&fm=organic&iid=en_u3bKThp7okbx0ACffkacaryapraQssLDlEWIy6so7bJqVCO999_H3jGLMiY5LE9pRE9PZRctavcEnxaUVP5C-Q%3D%3D&ppt=hp&ppn=homepage&ssid=vt6spwsd4g0000001712852837504&qH=a1743c0d39461290',\n",
       " 'https://www.flipkart.com/robbie-jones-sneakers-men/p/itmc8cd98533bd63?pid=SHOGQ2TDSNJAUX2D&lid=LSTSHOGQ2TDSNJAUX2DHUR51Y&marketplace=FLIPKART&q=sneakers&store=osp&srno=s_1_33&otracker=search&otracker1=search&fm=organic&iid=30178396-4369-42e9-bde8-da392e9f5285.SHOGQ2TDSNJAUX2D.SEARCH&ppt=hp&ppn=homepage&ssid=vt6spwsd4g0000001712852837504&qH=a1743c0d39461290',\n",
       " 'https://www.flipkart.com/rapidbox-sneakers-men/p/itm00df7333b67b8?pid=SHOG72GEYWH3KYSC&lid=LSTSHOG72GEYWH3KYSCL9X02P&marketplace=FLIPKART&q=sneakers&store=osp&srno=s_1_34&otracker=search&otracker1=search&fm=organic&iid=30178396-4369-42e9-bde8-da392e9f5285.SHOG72GEYWH3KYSC.SEARCH&ppt=hp&ppn=homepage&ssid=vt6spwsd4g0000001712852837504&qH=a1743c0d39461290',\n",
       " 'https://www.flipkart.com/aadi-men-black-green-casual-sneaker-sneakers/p/itm53615dfc8f234?pid=SHOGSZCUH96AKCFW&lid=LSTSHOGSZCUH96AKCFWW8Y7DE&marketplace=FLIPKART&q=sneakers&store=osp&srno=s_1_35&otracker=search&otracker1=search&fm=organic&iid=30178396-4369-42e9-bde8-da392e9f5285.SHOGSZCUH96AKCFW.SEARCH&ppt=hp&ppn=homepage&ssid=vt6spwsd4g0000001712852837504&qH=a1743c0d39461290',\n",
       " 'https://www.flipkart.com/solethreads-rebel-sneakers-women/p/itm331f254cbdb29?pid=SHOGNZE9CYXHGRQC&lid=LSTSHOGNZE9CYXHGRQCPHP2IH&marketplace=FLIPKART&q=sneakers&store=osp&srno=s_1_36&otracker=search&otracker1=search&fm=organic&iid=30178396-4369-42e9-bde8-da392e9f5285.SHOGNZE9CYXHGRQC.SEARCH&ppt=hp&ppn=homepage&ssid=vt6spwsd4g0000001712852837504&qH=a1743c0d39461290',\n",
       " 'https://www.flipkart.com/birde-premium-casual-shoes-women-sneakers/p/itmd9d288f5af82f?pid=SHOGEWPP2GTEHXUF&lid=LSTSHOGEWPP2GTEHXUFE1BCIK&marketplace=FLIPKART&q=sneakers&store=osp&srno=s_1_37&otracker=search&otracker1=search&fm=organic&iid=en_u3bKThp7okbx0ACffkacaryapraQssLDlEWIy6so7bK-tSz34JXiYB7dPNU07ckVPw64GTqTW9ZB9ltCK2L1qQ%3D%3D&ppt=hp&ppn=homepage&ssid=vt6spwsd4g0000001712852837504&qH=a1743c0d39461290',\n",
       " 'https://www.flipkart.com/atom-spring-edge-alpha-2-sneakers-men/p/itm74ce4c7c2d4b9?pid=SHOGHYV8GPF2HNEC&lid=LSTSHOGHYV8GPF2HNECKHMMST&marketplace=FLIPKART&q=sneakers&store=osp&srno=s_1_38&otracker=search&otracker1=search&fm=organic&iid=en_u3bKThp7okbx0ACffkacaryapraQssLDlEWIy6so7bKrp_G44dmwUnhq90mfrrGHDgf_thgOLe6RBhWBVOTCBQ%3D%3D&ppt=hp&ppn=homepage&ssid=vt6spwsd4g0000001712852837504&qH=a1743c0d39461290',\n",
       " 'https://www.flipkart.com/asics-fuzor-b-sneakers-men/p/itm865315388e69c?pid=SHOGFGJUMHMZYZZC&lid=LSTSHOGFGJUMHMZYZZCSWCPHT&marketplace=FLIPKART&q=sneakers&store=osp&srno=s_1_39&otracker=search&otracker1=search&fm=organic&iid=30178396-4369-42e9-bde8-da392e9f5285.SHOGFGJUMHMZYZZC.SEARCH&ppt=hp&ppn=homepage&ssid=vt6spwsd4g0000001712852837504&qH=a1743c0d39461290',\n",
       " 'https://www.flipkart.com/atom-alpha-predator-sneakers-men/p/itm5f54aa946a64e?pid=SHOGS9KDQNHCGT4S&lid=LSTSHOGS9KDQNHCGT4SSPSYJ7&marketplace=FLIPKART&q=sneakers&store=osp&srno=s_1_40&otracker=search&otracker1=search&fm=organic&iid=30178396-4369-42e9-bde8-da392e9f5285.SHOGS9KDQNHCGT4S.SEARCH&ppt=hp&ppn=homepage&ssid=vt6spwsd4g0000001712852837504&qH=a1743c0d39461290',\n",
       " 'https://www.flipkart.com/run-seven-sneakers-men/p/itma76c0558b3e34?pid=SHOGWEQZXAHP6KTV&lid=LSTSHOGWEQZXAHP6KTVCC1TEJ&marketplace=FLIPKART&q=sneakers&store=osp&srno=s_2_41&otracker=search&otracker1=search&fm=Search&iid=en_w535TXTBKMVKKKV5krD1p40iOjEuqyvkYuAkXf3657AeYvsVR8uzWvia6juxg2pZU3J8hqhT7aCDB9aLOt3oIA%3D%3D&ppt=sp&ppn=sp&ssid=vt6spwsd4g0000001712852837504&qH=a1743c0d39461290',\n",
       " 'https://www.flipkart.com/run-seven-go21-soft-insole-slip-resistance-walking-casual-sneakers-men/p/itm857bebddb88e1?pid=SHOGWEQYMHAQFMTH&lid=LSTSHOGWEQYMHAQFMTHU1SRCJ&marketplace=FLIPKART&q=sneakers&store=osp&srno=s_2_42&otracker=search&otracker1=search&fm=Search&iid=en_w535TXTBKMVKKKV5krD1p40iOjEuqyvkYuAkXf3657DvQfXtbLqLooW6Z0V8XMWSJDJa7_-1UVu6Jy55GHsrDQ%3D%3D&ppt=sp&ppn=sp&ssid=vt6spwsd4g0000001712852837504&qH=a1743c0d39461290',\n",
       " 'https://www.flipkart.com/hotstyle-designer-sneakers-men/p/itmf7nkvjavehyfb?pid=SHOF7N23SFA3YZTA&lid=LSTSHOF7N23SFA3YZTASFW80T&marketplace=FLIPKART&q=sneakers&store=osp&srno=s_2_43&otracker=search&otracker1=search&fm=Search&iid=46c8c76c-c6e1-48b6-93dd-e154bd687685.SHOF7N23SFA3YZTA.SEARCH&ppt=sp&ppn=sp&ssid=vt6spwsd4g0000001712852837504&qH=a1743c0d39461290',\n",
       " 'https://www.flipkart.com/rapidbox-sneakers-men/p/itm13dd1209e585b?pid=SHOG7H6QASRQSB2C&lid=LSTSHOG7H6QASRQSB2CL1CPXP&marketplace=FLIPKART&q=sneakers&store=osp&srno=s_2_44&otracker=search&otracker1=search&fm=Search&iid=46c8c76c-c6e1-48b6-93dd-e154bd687685.SHOG7H6QASRQSB2C.SEARCH&ppt=sp&ppn=sp&ssid=vt6spwsd4g0000001712852837504&qH=a1743c0d39461290',\n",
       " 'https://www.flipkart.com/bruton-modern-trendy-shoes-sneakers-men/p/itm6036f913ec47f?pid=SHOG293HAHJ9HCTE&lid=LSTSHOG293HAHJ9HCTEQD9JPA&marketplace=FLIPKART&q=sneakers&store=osp&srno=s_2_45&otracker=search&otracker1=search&fm=Search&iid=46c8c76c-c6e1-48b6-93dd-e154bd687685.SHOG293HAHJ9HCTE.SEARCH&ppt=sp&ppn=sp&ssid=vt6spwsd4g0000001712852837504&qH=a1743c0d39461290',\n",
       " 'https://www.flipkart.com/puma-coy-float-slip-sneakers-men/p/itm72efac08771ef?pid=SHOGDRGNHWASZVDM&lid=LSTSHOGDRGNHWASZVDMDKNIS3&marketplace=FLIPKART&q=sneakers&store=osp&srno=s_2_46&otracker=search&otracker1=search&fm=Search&iid=46c8c76c-c6e1-48b6-93dd-e154bd687685.SHOGDRGNHWASZVDM.SEARCH&ppt=sp&ppn=sp&ssid=vt6spwsd4g0000001712852837504&qH=a1743c0d39461290',\n",
       " 'https://www.flipkart.com/airson-jr-07-sneaker-shoes-men-sneakers-basketball/p/itm7dbb6c995859c?pid=SHOGT88FVFG8J8VH&lid=LSTSHOGT88FVFG8J8VHKP87PX&marketplace=FLIPKART&q=sneakers&store=osp&srno=s_2_47&otracker=search&otracker1=search&fm=Search&iid=en_w535TXTBKMVKKKV5krD1p40iOjEuqyvkYuAkXf3657Ar87wjDNZSLSJU5ORmFKGyShk1wwLa34xDcYH-ufD2Pg%3D%3D&ppt=sp&ppn=sp&ssid=vt6spwsd4g0000001712852837504&qH=a1743c0d39461290',\n",
       " 'https://www.flipkart.com/abros-inter-ceptor-1-sneakers-men/p/itm0c4e4e62b1cb4?pid=SHOGSASHNPFVHZGF&lid=LSTSHOGSASHNPFVHZGFJYBKLW&marketplace=FLIPKART&q=sneakers&store=osp&srno=s_2_48&otracker=search&otracker1=search&fm=Search&iid=en_w535TXTBKMVKKKV5krD1p40iOjEuqyvkYuAkXf3657CWT3zmEzzW0BjV-rhx8ABjkjlQkcyXqxoFQnNirv8AnfUFjCTyOHoHZs-Z5_PS_w0%3D&ppt=sp&ppn=sp&ssid=vt6spwsd4g0000001712852837504&qH=a1743c0d39461290',\n",
       " 'https://www.flipkart.com/aadi-sneakers-men/p/itmfbbd674083772?pid=SHOGMKFZJYJKJZ4J&lid=LSTSHOGMKFZJYJKJZ4JOC8WVV&marketplace=FLIPKART&q=sneakers&store=osp&srno=s_2_49&otracker=search&otracker1=search&fm=Search&iid=46c8c76c-c6e1-48b6-93dd-e154bd687685.SHOGMKFZJYJKJZ4J.SEARCH&ppt=sp&ppn=sp&ssid=vt6spwsd4g0000001712852837504&qH=a1743c0d39461290',\n",
       " 'https://www.flipkart.com/red-tape-casual-sneaker-shoes-men-comfortable-breathable-arch-support-sneakers/p/itm2e7bb1fdf5778?pid=SHOGSZ7VZAAR3TRH&lid=LSTSHOGSZ7VZAAR3TRH4LX6VZ&marketplace=FLIPKART&q=sneakers&store=osp&srno=s_2_50&otracker=search&otracker1=search&fm=Search&iid=46c8c76c-c6e1-48b6-93dd-e154bd687685.SHOGSZ7VZAAR3TRH.SEARCH&ppt=sp&ppn=sp&ssid=vt6spwsd4g0000001712852837504&qH=a1743c0d39461290',\n",
       " 'https://www.flipkart.com/adidas-vl-court-base-sneakers-women/p/itm674e7a2f648de?pid=SHOGW3N7FBHCPQUZ&lid=LSTSHOGW3N7FBHCPQUZ8CPHLT&marketplace=FLIPKART&q=sneakers&store=osp&srno=s_2_51&otracker=search&otracker1=search&fm=Search&iid=en_w535TXTBKMVKKKV5krD1p40iOjEuqyvkYuAkXf3657AxtP82MkR0RI_gYDqgxz9cSI1hW8pU7zxMlUoLX81olQ%3D%3D&ppt=sp&ppn=sp&ssid=vt6spwsd4g0000001712852837504&qH=a1743c0d39461290',\n",
       " 'https://www.flipkart.com/airson-arcade-casual-sneakers-shoes-men-memory-foam-insole/p/itm72cbdacf14ce2?pid=SHOGVKXMDUPD8YCY&lid=LSTSHOGVKXMDUPD8YCY6I3O8D&marketplace=FLIPKART&q=sneakers&store=osp&srno=s_2_52&otracker=search&otracker1=search&fm=Search&iid=en_w535TXTBKMVKKKV5krD1p40iOjEuqyvkYuAkXf3657Bn0HLaBmQXAgVcUfx1McbkvHGDSSkaZZ6z4fg_6we1Ig%3D%3D&ppt=sp&ppn=sp&ssid=vt6spwsd4g0000001712852837504&qH=a1743c0d39461290',\n",
       " 'https://www.flipkart.com/puma-daze-v2-sneakers-men/p/itm7188be7d020e8?pid=SHOGFZKKHNWRHPK9&lid=LSTSHOGFZKKHNWRHPK9MGJLUW&marketplace=FLIPKART&q=sneakers&store=osp&srno=s_2_53&otracker=search&otracker1=search&fm=Search&iid=46c8c76c-c6e1-48b6-93dd-e154bd687685.SHOGFZKKHNWRHPK9.SEARCH&ppt=sp&ppn=sp&ssid=vt6spwsd4g0000001712852837504&qH=a1743c0d39461290',\n",
       " 'https://www.flipkart.com/bruton-2-combo-sneaker-shoes-sneakers-men/p/itm636fec504f7cd?pid=SHOGHMDPYG9GBXHB&lid=LSTSHOGHMDPYG9GBXHBPIDJQQ&marketplace=FLIPKART&q=sneakers&store=osp&srno=s_2_54&otracker=search&otracker1=search&fm=Search&iid=46c8c76c-c6e1-48b6-93dd-e154bd687685.SHOGHMDPYG9GBXHB.SEARCH&ppt=sp&ppn=sp&ssid=vt6spwsd4g0000001712852837504&qH=a1743c0d39461290',\n",
       " 'https://www.flipkart.com/puma-pacer-future-sneakers-men/p/itm5f5e513905548?pid=SHOG4JEYQFTMWMT9&lid=LSTSHOG4JEYQFTMWMT9TJSQSN&marketplace=FLIPKART&q=sneakers&store=osp&srno=s_2_55&otracker=search&otracker1=search&fm=Search&iid=46c8c76c-c6e1-48b6-93dd-e154bd687685.SHOG4JEYQFTMWMT9.SEARCH&ppt=sp&ppn=sp&ssid=vt6spwsd4g0000001712852837504&qH=a1743c0d39461290',\n",
       " 'https://www.flipkart.com/puma-pacer-styx-sneakers-men/p/itm12903b03b8f14?pid=SHOGGEYGM4ZW9Y4M&lid=LSTSHOGGEYGM4ZW9Y4MLZ0DL4&marketplace=FLIPKART&q=sneakers&store=osp&srno=s_2_56&otracker=search&otracker1=search&fm=Search&iid=46c8c76c-c6e1-48b6-93dd-e154bd687685.SHOGGEYGM4ZW9Y4M.SEARCH&ppt=sp&ppn=sp&ssid=vt6spwsd4g0000001712852837504&qH=a1743c0d39461290',\n",
       " 'https://www.flipkart.com/vendoz-premium-stylish-comfortable-shoe-girls-womens-sneakers-women/p/itmd1893f3822e0f?pid=SHOGRHEUUHYYHPBG&lid=LSTSHOGRHEUUHYYHPBG0AAHIT&marketplace=FLIPKART&q=sneakers&store=osp&srno=s_2_57&otracker=search&otracker1=search&fm=Search&iid=en_w535TXTBKMVKKKV5krD1p40iOjEuqyvkYuAkXf3657B7mJ7rGvSDcF4osJrErQomspHhKkvhymYKEXGrBbkX_A%3D%3D&ppt=sp&ppn=sp&ssid=vt6spwsd4g0000001712852837504&qH=a1743c0d39461290',\n",
       " 'https://www.flipkart.com/lacoste-sneakers-men/p/itmbbc01b59495d4?pid=SHOGWRVQPEMQZ29W&lid=LSTSHOGWRVQPEMQZ29WXMCE8Q&marketplace=FLIPKART&q=sneakers&store=osp&srno=s_2_58&otracker=search&otracker1=search&fm=Search&iid=en_w535TXTBKMVKKKV5krD1p40iOjEuqyvkYuAkXf3657Cmj5_peKxrEGKj6jXX9-MDmV-ApXoJ01Mk-INi8hnnpfUFjCTyOHoHZs-Z5_PS_w0%3D&ppt=sp&ppn=sp&ssid=vt6spwsd4g0000001712852837504&qH=a1743c0d39461290',\n",
       " 'https://www.flipkart.com/clymb-sneakers-men/p/itm982e464db0722?pid=SHOG8SSHZ53SHQS4&lid=LSTSHOG8SSHZ53SHQS4KKAA9V&marketplace=FLIPKART&q=sneakers&store=osp&srno=s_2_59&otracker=search&otracker1=search&fm=Search&iid=46c8c76c-c6e1-48b6-93dd-e154bd687685.SHOG8SSHZ53SHQS4.SEARCH&ppt=sp&ppn=sp&ssid=vt6spwsd4g0000001712852837504&qH=a1743c0d39461290',\n",
       " 'https://www.flipkart.com/puma-smash-3-0-buck-sneakers-men/p/itm8e89a63db49d4?pid=SHOGT3UZYGXCEZSE&lid=LSTSHOGT3UZYGXCEZSEOG9OXD&marketplace=FLIPKART&q=sneakers&store=osp&srno=s_2_60&otracker=search&otracker1=search&fm=Search&iid=46c8c76c-c6e1-48b6-93dd-e154bd687685.SHOGT3UZYGXCEZSE.SEARCH&ppt=sp&ppn=sp&ssid=vt6spwsd4g0000001712852837504&qH=a1743c0d39461290',\n",
       " 'https://www.flipkart.com/lacoste-sneakers-men/p/itmf39ccc101dc13?pid=SHOGWRVQ7PBJAJHY&lid=LSTSHOGWRVQ7PBJAJHYRZZX3V&marketplace=FLIPKART&q=sneakers&store=osp&srno=s_2_61&otracker=search&otracker1=search&fm=Search&iid=en_w535TXTBKMVKKKV5krD1p40iOjEuqyvkYuAkXf3657B4B3tsTS-NiE73bB8UI6nCBJ9n8JDPV-P0f9YlxSlhdvUFjCTyOHoHZs-Z5_PS_w0%3D&ppt=sp&ppn=sp&ssid=vt6spwsd4g0000001712852837504&qH=a1743c0d39461290',\n",
       " 'https://www.flipkart.com/lacoste-sneakers-men/p/itm77447bd24b6fa?pid=SHOGWRVQMHERZGN2&lid=LSTSHOGWRVQMHERZGN2AE5VGN&marketplace=FLIPKART&q=sneakers&store=osp&srno=s_2_62&otracker=search&otracker1=search&fm=Search&iid=en_w535TXTBKMVKKKV5krD1p40iOjEuqyvkYuAkXf3657CovOGLOfiwbUGk-fUkyz9MeN_6T12Fxy-T5QqMsFZYbqV8WX5krIChubBlraAu4CQ%3D&ppt=sp&ppn=sp&ssid=vt6spwsd4g0000001712852837504&qH=a1743c0d39461290',\n",
       " 'https://www.flipkart.com/rapidbox-high-tops-sneakers-men/p/itm72c4dab936b22?pid=SHOGGD8FAP8NWJY3&lid=LSTSHOGGD8FAP8NWJY36DMHLR&marketplace=FLIPKART&q=sneakers&store=osp&srno=s_2_63&otracker=search&otracker1=search&fm=Search&iid=46c8c76c-c6e1-48b6-93dd-e154bd687685.SHOGGD8FAP8NWJY3.SEARCH&ppt=sp&ppn=sp&ssid=vt6spwsd4g0000001712852837504&qH=a1743c0d39461290',\n",
       " 'https://www.flipkart.com/u-s-polo-assn-clarkin-sneakers-men/p/itm41569f1a9c7ac?pid=SHOG3N6UVXZYVD7U&lid=LSTSHOG3N6UVXZYVD7UNYWJOR&marketplace=FLIPKART&q=sneakers&store=osp&srno=s_2_64&otracker=search&otracker1=search&fm=Search&iid=46c8c76c-c6e1-48b6-93dd-e154bd687685.SHOG3N6UVXZYVD7U.SEARCH&ppt=sp&ppn=sp&ssid=vt6spwsd4g0000001712852837504&qH=a1743c0d39461290',\n",
       " 'https://www.flipkart.com/puma-shuffle-ultra-sneakers-men/p/itm7e8517d5ec1fd?pid=SHOGQAZDFASX6U2K&lid=LSTSHOGQAZDFASX6U2KFHSL0S&marketplace=FLIPKART&q=sneakers&store=osp&spotlightTagId=BestsellerId_osp&srno=s_2_65&otracker=search&otracker1=search&fm=Search&iid=46c8c76c-c6e1-48b6-93dd-e154bd687685.SHOGQAZDFASX6U2K.SEARCH&ppt=sp&ppn=sp&ssid=vt6spwsd4g0000001712852837504&qH=a1743c0d39461290',\n",
       " 'https://www.flipkart.com/robbie-jones-casual-sneakers-canvas-high-top-boots-boys-men/p/itm5f83cb919475a?pid=SHOGQ2UKHPFFUSAG&lid=LSTSHOGQ2UKHPFFUSAGSFKYON&marketplace=FLIPKART&q=sneakers&store=osp&srno=s_2_66&otracker=search&otracker1=search&fm=Search&iid=46c8c76c-c6e1-48b6-93dd-e154bd687685.SHOGQ2UKHPFFUSAG.SEARCH&ppt=sp&ppn=sp&ssid=vt6spwsd4g0000001712852837504&qH=a1743c0d39461290',\n",
       " 'https://www.flipkart.com/lacoste-sneakers-men/p/itmccbcdd59f64cf?pid=SHOGWRVQUFU3AZ6Y&lid=LSTSHOGWRVQUFU3AZ6YMIJLT6&marketplace=FLIPKART&q=sneakers&store=osp&srno=s_2_67&otracker=search&otracker1=search&fm=Search&iid=en_w535TXTBKMVKKKV5krD1p40iOjEuqyvkYuAkXf3657CnI7422uROKzwQKa48h_LvFEG5Trmz9aD7ZlmjFCQKZQ891ypMzu4_aryI8_sihJ8%3D&ppt=sp&ppn=sp&ssid=vt6spwsd4g0000001712852837504&qH=a1743c0d39461290',\n",
       " 'https://www.flipkart.com/lacoste-sneakers-men/p/itm5bd3ae793b99c?pid=SHOGWRVQXF4UFEJS&lid=LSTSHOGWRVQXF4UFEJSVGNRWC&marketplace=FLIPKART&q=sneakers&store=osp&srno=s_2_68&otracker=search&otracker1=search&fm=Search&iid=en_w535TXTBKMVKKKV5krD1p40iOjEuqyvkYuAkXf3657BZs_FJOhYKsirsRHjKWmN2Cx_DTCg9CzepKTZv-y0qABhTy0lUJ14SzoMSv_CzLF0%3D&ppt=sp&ppn=sp&ssid=vt6spwsd4g0000001712852837504&qH=a1743c0d39461290',\n",
       " 'https://www.flipkart.com/red-tape-sneaker-casual-shoes-men-soft-cushion-insole-slip-resistance-sneakers/p/itmaec324ea9b835?pid=SHOGMA2UVUZN5RCQ&lid=LSTSHOGMA2UVUZN5RCQBUAEHS&marketplace=FLIPKART&q=sneakers&store=osp&srno=s_2_69&otracker=search&otracker1=search&fm=Search&iid=46c8c76c-c6e1-48b6-93dd-e154bd687685.SHOGMA2UVUZN5RCQ.SEARCH&ppt=sp&ppn=sp&ssid=vt6spwsd4g0000001712852837504&qH=a1743c0d39461290',\n",
       " 'https://www.flipkart.com/red-tape-sneaker-casual-shoes-men-soft-cushion-insole-slip-resistance-sneakers/p/itm06939ed2162ba?pid=SHOGR5Z68NYEFYPF&lid=LSTSHOGR5Z68NYEFYPFNQNUVO&marketplace=FLIPKART&q=sneakers&store=osp&srno=s_2_70&otracker=search&otracker1=search&fm=Search&iid=46c8c76c-c6e1-48b6-93dd-e154bd687685.SHOGR5Z68NYEFYPF.SEARCH&ppt=sp&ppn=sp&ssid=vt6spwsd4g0000001712852837504&qH=a1743c0d39461290',\n",
       " 'https://www.flipkart.com/lacoste-sneakers-men/p/itmdb9cb5bec9e97?pid=SHOGWRVQJQGDRC5T&lid=LSTSHOGWRVQJQGDRC5TYAAJAE&marketplace=FLIPKART&q=sneakers&store=osp&srno=s_2_71&otracker=search&otracker1=search&fm=Search&iid=en_w535TXTBKMVKKKV5krD1p40iOjEuqyvkYuAkXf3657ArKyPtAFchW6LXR-NveV42i82BwdDrY3xkmN-TvKJ7TX3Gaq_wzx4HJysDmGalzMk%3D&ppt=sp&ppn=sp&ssid=vt6spwsd4g0000001712852837504&qH=a1743c0d39461290',\n",
       " 'https://www.flipkart.com/lacoste-sneakers-men/p/itm3bcb8a9f18ed0?pid=SHOGWRVQZHKAAU6G&lid=LSTSHOGWRVQZHKAAU6GDPNHMO&marketplace=FLIPKART&q=sneakers&store=osp&srno=s_2_72&otracker=search&otracker1=search&fm=Search&iid=en_w535TXTBKMVKKKV5krD1p40iOjEuqyvkYuAkXf3657A76jKMl9BSrXRpZpck072Lt-ZyfSPsCpFxIvIda1FB3uvN4Mn-dv-pi277bRzMbnY%3D&ppt=sp&ppn=sp&ssid=vt6spwsd4g0000001712852837504&qH=a1743c0d39461290',\n",
       " 'https://www.flipkart.com/hrx-hrithik-roshan-city-escape-sneakers-men/p/itm490929b95621b?pid=SHOGVWW5MR8RHWKW&lid=LSTSHOGVWW5MR8RHWKW24W7OF&marketplace=FLIPKART&q=sneakers&store=osp&srno=s_2_73&otracker=search&otracker1=search&fm=Search&iid=46c8c76c-c6e1-48b6-93dd-e154bd687685.SHOGVWW5MR8RHWKW.SEARCH&ppt=sp&ppn=sp&ssid=vt6spwsd4g0000001712852837504&qH=a1743c0d39461290',\n",
       " 'https://www.flipkart.com/magnolia-sneakers-men/p/itm7cb72a8ddee11?pid=SHOGGZ7BFHNR62KP&lid=LSTSHOGGZ7BFHNR62KPYUWVRQ&marketplace=FLIPKART&q=sneakers&store=osp&srno=s_2_74&otracker=search&otracker1=search&fm=Search&iid=46c8c76c-c6e1-48b6-93dd-e154bd687685.SHOGGZ7BFHNR62KP.SEARCH&ppt=sp&ppn=sp&ssid=vt6spwsd4g0000001712852837504&qH=a1743c0d39461290',\n",
       " 'https://www.flipkart.com/atom-spring-edge-alpha-2-sneakers-men/p/itm503b3a2788160?pid=SHOGH4FZES3Z6MU7&lid=LSTSHOGH4FZES3Z6MU70XE7XH&marketplace=FLIPKART&q=sneakers&store=osp&srno=s_2_75&otracker=search&otracker1=search&fm=Search&iid=46c8c76c-c6e1-48b6-93dd-e154bd687685.SHOGH4FZES3Z6MU7.SEARCH&ppt=sp&ppn=sp&ssid=vt6spwsd4g0000001712852837504&qH=a1743c0d39461290',\n",
       " 'https://www.flipkart.com/hrx-hrithik-roshan-city-escape-sneakers-men/p/itm3932afc96f711?pid=SHOGVWW5STAZAMHB&lid=LSTSHOGVWW5STAZAMHBK4CPHU&marketplace=FLIPKART&q=sneakers&store=osp&srno=s_2_76&otracker=search&otracker1=search&fm=Search&iid=46c8c76c-c6e1-48b6-93dd-e154bd687685.SHOGVWW5STAZAMHB.SEARCH&ppt=sp&ppn=sp&ssid=vt6spwsd4g0000001712852837504&qH=a1743c0d39461290',\n",
       " 'https://www.flipkart.com/lacoste-sneakers-men/p/itm38a1226426217?pid=SHOGWRVQ3HFHZQZV&lid=LSTSHOGWRVQ3HFHZQZVKTMQKL&marketplace=FLIPKART&q=sneakers&store=osp&srno=s_2_77&otracker=search&otracker1=search&fm=Search&iid=en_w535TXTBKMVKKKV5krD1p40iOjEuqyvkYuAkXf3657BN0qOD9y4Q4txTWyeIb2Ju-ScEKjiyL8WN-MyzfjRar2aRs4JL222ZRV-dN99QnxU%3D&ppt=sp&ppn=sp&ssid=vt6spwsd4g0000001712852837504&qH=a1743c0d39461290',\n",
       " 'https://www.flipkart.com/lacoste-sneakers-men/p/itm3282d7cdf2d18?pid=SHOGWRVQAY8DDMGZ&lid=LSTSHOGWRVQAY8DDMGZGXH6MZ&marketplace=FLIPKART&q=sneakers&store=osp&srno=s_2_78&otracker=search&otracker1=search&fm=Search&iid=en_w535TXTBKMVKKKV5krD1p40iOjEuqyvkYuAkXf3657BRZU0hoz8Wi4y4afohaDYBXCbhcNh2O57gGpxDaxVbqK8iqbiwhGf4dwbXVx7ZSks%3D&ppt=sp&ppn=sp&ssid=vt6spwsd4g0000001712852837504&qH=a1743c0d39461290',\n",
       " 'https://www.flipkart.com/puma-rungryp-sneakers-men/p/itm014500194b6a8?pid=SHOGTDWQBR2JEZHB&lid=LSTSHOGTDWQBR2JEZHBE8SQYR&marketplace=FLIPKART&q=sneakers&store=osp&srno=s_2_79&otracker=search&otracker1=search&fm=Search&iid=46c8c76c-c6e1-48b6-93dd-e154bd687685.SHOGTDWQBR2JEZHB.SEARCH&ppt=sp&ppn=sp&ssid=vt6spwsd4g0000001712852837504&qH=a1743c0d39461290',\n",
       " 'https://www.flipkart.com/woodland-sneakers-men/p/itm2af26d567bc8a?pid=SHOGYKJPYEVYUGVT&lid=LSTSHOGYKJPYEVYUGVT4AHDZA&marketplace=FLIPKART&q=sneakers&store=osp&srno=s_2_80&otracker=search&otracker1=search&fm=Search&iid=46c8c76c-c6e1-48b6-93dd-e154bd687685.SHOGYKJPYEVYUGVT.SEARCH&ppt=sp&ppn=sp&ssid=vt6spwsd4g0000001712852837504&qH=a1743c0d39461290',\n",
       " 'https://www.flipkart.com/urbanbox-trending-stylish-casual-outdoor-shoes-sneakers-men/p/itm20f1e7caa80e8?pid=SHOGP8QHSXYRN7FU&lid=LSTSHOGP8QHSXYRN7FUWJM9HY&marketplace=FLIPKART&q=sneakers&store=osp&srno=s_1_1&otracker=search&otracker1=search&fm=Search&iid=en_nKqmwe0eqfc5v6MGmdZOaRSq6-lBCLhlycMxTEQJOpVUQVGWApOYCxeaEZz_7hCMUs-RH-335jc05kguPGepfA%3D%3D&ppt=sp&ppn=sp&ssid=vt6spwsd4g0000001712852837504&qH=a1743c0d39461290',\n",
       " 'https://www.flipkart.com/bruton-2-combo-sneaker-shoes-sneakers-men/p/itm636fec504f7cd?pid=SHOGHMDPYG9GBXHB&lid=LSTSHOGHMDPYG9GBXHBPIDJQQ&marketplace=FLIPKART&q=sneakers&store=osp&srno=s_1_2&otracker=search&otracker1=search&fm=Search&iid=en_nKqmwe0eqfc5v6MGmdZOaRSq6-lBCLhlycMxTEQJOpVMOG9GO_L_pLF00B2WxR8jB5BtTs3IrPEaL7IeFqZ8xw%3D%3D&ppt=sp&ppn=sp&ssid=vt6spwsd4g0000001712852837504&qH=a1743c0d39461290',\n",
       " 'https://www.flipkart.com/urbanbox-trending-stylish-casual-outdoor-shoes-sneakers-men/p/itm20f1e7caa80e8?pid=SHOGP8QUMPEYXDWX&lid=LSTSHOGP8QUMPEYXDWXQ4MXXV&marketplace=FLIPKART&q=sneakers&store=osp&spotlightTagId=BestsellerId_osp&srno=s_1_3&otracker=search&otracker1=search&fm=Search&iid=ffc3150f-2fdb-4527-87e1-9f33470baae1.SHOGP8QUMPEYXDWX.SEARCH&ppt=sp&ppn=sp&ssid=vt6spwsd4g0000001712852837504&qH=a1743c0d39461290',\n",
       " 'https://www.flipkart.com/deals4you-sneakers-women/p/itmd1241f2f24eb8?pid=SHOG7PJ6CBYM4AVD&lid=LSTSHOG7PJ6CBYM4AVDGU3MZK&marketplace=FLIPKART&q=sneakers&store=osp&srno=s_1_4&otracker=search&otracker1=search&fm=Search&iid=ffc3150f-2fdb-4527-87e1-9f33470baae1.SHOG7PJ6CBYM4AVD.SEARCH&ppt=sp&ppn=sp&ssid=vt6spwsd4g0000001712852837504&qH=a1743c0d39461290',\n",
       " 'https://www.flipkart.com/layasa-sneakers-men/p/itm033899612ce4c?pid=SHOGHM9RUZ9WTEBZ&lid=LSTSHOGHM9RUZ9WTEBZ92ZQXN&marketplace=FLIPKART&q=sneakers&store=osp&srno=s_1_5&otracker=search&otracker1=search&fm=Search&iid=ffc3150f-2fdb-4527-87e1-9f33470baae1.SHOGHM9RUZ9WTEBZ.SEARCH&ppt=sp&ppn=sp&ssid=vt6spwsd4g0000001712852837504&qH=a1743c0d39461290',\n",
       " 'https://www.flipkart.com/robbie-jones-casual-sneakers-colour-blocked-shoes-boys-men/p/itm5e82283c718fc?pid=SHOGNGK27BDKAWH4&lid=LSTSHOGNGK27BDKAWH486AHIY&marketplace=FLIPKART&q=sneakers&store=osp&srno=s_1_6&otracker=search&otracker1=search&fm=Search&iid=ffc3150f-2fdb-4527-87e1-9f33470baae1.SHOGNGK27BDKAWH4.SEARCH&ppt=sp&ppn=sp&ssid=vt6spwsd4g0000001712852837504&qH=a1743c0d39461290',\n",
       " 'https://www.flipkart.com/bruton-combo-pack-2-trendy-stylish-casual-shoes-sneakers-men/p/itmca57f9a2b302b?pid=SHOGYYYRAZPCGNBB&lid=LSTSHOGYYYRAZPCGNBBAWBFSX&marketplace=FLIPKART&q=sneakers&store=osp&srno=s_1_7&otracker=search&otracker1=search&fm=Search&iid=en_nKqmwe0eqfc5v6MGmdZOaRSq6-lBCLhlycMxTEQJOpVcP6sHadEi3JUkaCpItYV-runcbp-g4jTYt18shmYoAg%3D%3D&ppt=sp&ppn=sp&ssid=vt6spwsd4g0000001712852837504&qH=a1743c0d39461290',\n",
       " 'https://www.flipkart.com/bruton-combo-pack-2-casual-shoes-sneakers-men/p/itm20d7304f62cfc?pid=SHOGGFT6QZ4JB6K9&lid=LSTSHOGGFT6QZ4JB6K9WOOJJO&marketplace=FLIPKART&q=sneakers&store=osp&srno=s_1_8&otracker=search&otracker1=search&fm=Search&iid=en_nKqmwe0eqfc5v6MGmdZOaRSq6-lBCLhlycMxTEQJOpV4NYauMUZI7-mpOSTMt1Wx16ROlEPQoskBLMAwiwDt2g%3D%3D&ppt=sp&ppn=sp&ssid=vt6spwsd4g0000001712852837504&qH=a1743c0d39461290',\n",
       " 'https://www.flipkart.com/m7-metronaut-claire-01-sneakers-women/p/itm775c68b89cd49?pid=SHOGUFUXEKCEDNVP&lid=LSTSHOGUFUXEKCEDNVPXHKFAU&marketplace=FLIPKART&q=sneakers&store=osp&srno=s_1_9&otracker=search&otracker1=search&fm=Search&iid=ffc3150f-2fdb-4527-87e1-9f33470baae1.SHOGUFUXEKCEDNVP.SEARCH&ppt=sp&ppn=sp&ssid=vt6spwsd4g0000001712852837504&qH=a1743c0d39461290',\n",
       " 'https://www.flipkart.com/puma-flyumph-sneakers-men/p/itm74d7e6433619c?pid=SHOGQAZDYT274YFY&lid=LSTSHOGQAZDYT274YFY3SFJE3&marketplace=FLIPKART&q=sneakers&store=osp&srno=s_1_10&otracker=search&otracker1=search&fm=Search&iid=ffc3150f-2fdb-4527-87e1-9f33470baae1.SHOGQAZDYT274YFY.SEARCH&ppt=sp&ppn=sp&ssid=vt6spwsd4g0000001712852837504&qH=a1743c0d39461290',\n",
       " 'https://www.flipkart.com/bruton-2-combo-sneaker-shoes-sneakers-men/p/itm7d7ff9598d62e?pid=SHOGGG5HMUTZ3D8Q&lid=LSTSHOGGG5HMUTZ3D8Q0E7G8P&marketplace=FLIPKART&q=sneakers&store=osp&srno=s_1_11&otracker=search&otracker1=search&fm=Search&iid=en_nKqmwe0eqfc5v6MGmdZOaRSq6-lBCLhlycMxTEQJOpU-FPz3ZbLUGIgKsU9ZSOQEe2xEzVO0YnGwQLCFp07JSg%3D%3D&ppt=sp&ppn=sp&ssid=vt6spwsd4g0000001712852837504&qH=a1743c0d39461290',\n",
       " 'https://www.flipkart.com/bruton-combo-pack-2-trendy-mens-casual-shoes-sneakers-men/p/itmc671946a46b74?pid=SHOGFHZQWYQ33GJN&lid=LSTSHOGFHZQWYQ33GJN9N60XH&marketplace=FLIPKART&q=sneakers&store=osp&srno=s_1_12&otracker=search&otracker1=search&fm=Search&iid=en_nKqmwe0eqfc5v6MGmdZOaRSq6-lBCLhlycMxTEQJOpXDoogO0xXmfjSX2yI_s1Vn6QYa63X5I5M8c2jG7iz31w%3D%3D&ppt=sp&ppn=sp&ssid=vt6spwsd4g0000001712852837504&qH=a1743c0d39461290',\n",
       " 'https://www.flipkart.com/atom-spring-edge-alpha-2-sneakers-men/p/itm74ce4c7c2d4b9?pid=SHOGHYV8UNHFHZS8&lid=LSTSHOGHYV8UNHFHZS8KXOFTL&marketplace=FLIPKART&q=sneakers&store=osp&srno=s_1_13&otracker=search&otracker1=search&fm=Search&iid=ffc3150f-2fdb-4527-87e1-9f33470baae1.SHOGHYV8UNHFHZS8.SEARCH&ppt=sp&ppn=sp&ssid=vt6spwsd4g0000001712852837504&qH=a1743c0d39461290',\n",
       " 'https://www.flipkart.com/puma-player-sneakers-men/p/itmb83d482da9b5a?pid=SHOG7CCJTUU7VBGG&lid=LSTSHOG7CCJTUU7VBGG33EFIC&marketplace=FLIPKART&q=sneakers&store=osp&srno=s_1_14&otracker=search&otracker1=search&fm=Search&iid=ffc3150f-2fdb-4527-87e1-9f33470baae1.SHOG7CCJTUU7VBGG.SEARCH&ppt=sp&ppn=sp&ssid=vt6spwsd4g0000001712852837504&qH=a1743c0d39461290',\n",
       " 'https://www.flipkart.com/hida-sneakers-women/p/itm720839088f78c?pid=SHOGZGJ4W6FHFJS3&lid=LSTSHOGZGJ4W6FHFJS3MPXB9O&marketplace=FLIPKART&q=sneakers&store=osp&srno=s_1_15&otracker=search&otracker1=search&fm=Search&iid=ffc3150f-2fdb-4527-87e1-9f33470baae1.SHOGZGJ4W6FHFJS3.SEARCH&ppt=sp&ppn=sp&ssid=vt6spwsd4g0000001712852837504&qH=a1743c0d39461290',\n",
       " 'https://www.flipkart.com/asian-carnival-02-mens-high-top-casual-chunky-sneakers-men/p/itm45df352810915?pid=SHOGMYKSD8VQWGB9&lid=LSTSHOGMYKSD8VQWGB9MTUEXV&marketplace=FLIPKART&q=sneakers&store=osp&srno=s_1_16&otracker=search&otracker1=search&fm=Search&iid=ffc3150f-2fdb-4527-87e1-9f33470baae1.SHOGMYKSD8VQWGB9.SEARCH&ppt=sp&ppn=sp&ssid=vt6spwsd4g0000001712852837504&qH=a1743c0d39461290',\n",
       " 'https://www.flipkart.com/bruton-modern-trendy-shoes-sneakers-men/p/itm286e1cdffa557?pid=SHOGEQF4HZVQFVXU&lid=LSTSHOGEQF4HZVQFVXUZV03KH&marketplace=FLIPKART&q=sneakers&store=osp&srno=s_1_17&otracker=search&otracker1=search&fm=Search&iid=en_nKqmwe0eqfc5v6MGmdZOaRSq6-lBCLhlycMxTEQJOpWVM9txOTPxxoZt57fuHkNUwUp1wZ0hkWKxrOcpoUwaDw%3D%3D&ppt=sp&ppn=sp&ssid=vt6spwsd4g0000001712852837504&qH=a1743c0d39461290',\n",
       " 'https://www.flipkart.com/bruton-combo-pack-2-casual-shoes-sneakers-men/p/itmc117a926294bc?pid=SHOGGG5GWHKGJV3A&lid=LSTSHOGGG5GWHKGJV3A0BSHG2&marketplace=FLIPKART&q=sneakers&store=osp&srno=s_1_18&otracker=search&otracker1=search&fm=Search&iid=en_nKqmwe0eqfc5v6MGmdZOaRSq6-lBCLhlycMxTEQJOpV1KXz3Y1Aezi8N0MKhUypJvLqmi7bxryqGUeE1a71NUA%3D%3D&ppt=sp&ppn=sp&ssid=vt6spwsd4g0000001712852837504&qH=a1743c0d39461290',\n",
       " 'https://www.flipkart.com/peelu-new-ogiy-retro-shoes-high-premium-quality-women-men-kids-unisex-sneakers/p/itm17ef9b5d8deee?pid=SHOGW823E4BUBTJG&lid=LSTSHOGW823E4BUBTJGR8HKOV&marketplace=FLIPKART&q=sneakers&store=osp&srno=s_1_19&otracker=search&otracker1=search&fm=Search&iid=ffc3150f-2fdb-4527-87e1-9f33470baae1.SHOGW823E4BUBTJG.SEARCH&ppt=sp&ppn=sp&ssid=vt6spwsd4g0000001712852837504&qH=a1743c0d39461290',\n",
       " 'https://www.flipkart.com/goldstar-612-sneakers-men/p/itm01224019c1bc6?pid=SHOGX7KVM4WMUJVS&lid=LSTSHOGX7KVM4WMUJVSQ94STM&marketplace=FLIPKART&q=sneakers&store=osp&srno=s_1_20&otracker=search&otracker1=search&fm=Search&iid=ffc3150f-2fdb-4527-87e1-9f33470baae1.SHOGX7KVM4WMUJVS.SEARCH&ppt=sp&ppn=sp&ssid=vt6spwsd4g0000001712852837504&qH=a1743c0d39461290']"
      ]
     },
     "execution_count": 10,
     "metadata": {},
     "output_type": "execute_result"
    }
   ],
   "source": [
    "URL[:100]"
   ]
  },
  {
   "cell_type": "code",
   "execution_count": 13,
   "id": "8a99260a-6021-421c-8ee5-0b17054f020c",
   "metadata": {},
   "outputs": [
    {
     "ename": "NameError",
     "evalue": "name 'NoSuchElementException' is not defined",
     "output_type": "error",
     "traceback": [
      "\u001b[1;31m---------------------------------------------------------------------------\u001b[0m",
      "\u001b[1;31mAttributeError\u001b[0m                            Traceback (most recent call last)",
      "Cell \u001b[1;32mIn[13], line 4\u001b[0m\n\u001b[0;32m      3\u001b[0m \u001b[38;5;28;01mtry\u001b[39;00m:\n\u001b[1;32m----> 4\u001b[0m     brand\u001b[38;5;241m=\u001b[39mdriver\u001b[38;5;241m.\u001b[39mfind_elements(By\u001b[38;5;241m.\u001b[39mXPATH,\u001b[38;5;124m'\u001b[39m\u001b[38;5;124m//div[@class=\u001b[39m\u001b[38;5;124m\"\u001b[39m\u001b[38;5;124m_2WkVRV\u001b[39m\u001b[38;5;124m\"\u001b[39m\u001b[38;5;124m]\u001b[39m\u001b[38;5;124m'\u001b[39m)\u001b[38;5;241m.\u001b[39mtext\n\u001b[0;32m      5\u001b[0m     Brand\u001b[38;5;241m.\u001b[39mappend(brand)\n",
      "\u001b[1;31mAttributeError\u001b[0m: 'list' object has no attribute 'text'",
      "\nDuring handling of the above exception, another exception occurred:\n",
      "\u001b[1;31mNameError\u001b[0m                                 Traceback (most recent call last)",
      "Cell \u001b[1;32mIn[13], line 10\u001b[0m\n\u001b[0;32m      8\u001b[0m     price\u001b[38;5;241m=\u001b[39mdriver\u001b[38;5;241m.\u001b[39mfind_elements(By\u001b[38;5;241m.\u001b[39mXPATH,\u001b[38;5;124m'\u001b[39m\u001b[38;5;124m//div[@class=\u001b[39m\u001b[38;5;124m\"\u001b[39m\u001b[38;5;124m_30jeq3\u001b[39m\u001b[38;5;124m\"\u001b[39m\u001b[38;5;124m]\u001b[39m\u001b[38;5;124m'\u001b[39m)\u001b[38;5;241m.\u001b[39mtext\n\u001b[0;32m      9\u001b[0m     Price\u001b[38;5;241m.\u001b[39mappend(price)\n\u001b[1;32m---> 10\u001b[0m \u001b[38;5;28;01mexcept\u001b[39;00m NoSuchElementException:\n\u001b[0;32m     11\u001b[0m     Brand\u001b[38;5;241m.\u001b[39mappend(\u001b[38;5;124m\"\u001b[39m\u001b[38;5;124mNaN\u001b[39m\u001b[38;5;124m\"\u001b[39m)\n\u001b[0;32m     12\u001b[0m     Product_Description\u001b[38;5;241m.\u001b[39mappend(\u001b[38;5;124m\"\u001b[39m\u001b[38;5;124mNaN\u001b[39m\u001b[38;5;124m\"\u001b[39m)\n",
      "\u001b[1;31mNameError\u001b[0m: name 'NoSuchElementException' is not defined"
     ]
    }
   ],
   "source": [
    "for i in URL[:100]:\n",
    "    driver.get(i)\n",
    "    try:\n",
    "        brand=driver.find_element(By.XPATH,'//div[@class=\"_2WkVRV\"]').text\n",
    "        Brand.append(brand)\n",
    "        description=driver.find_element(By.XPATH,'//a[@class=\"IRpwTa\"]').text\n",
    "        Product_Description.append(description)\n",
    "        price=driver.find_element(By.XPATH,'//div[@class=\"_30jeq3\"]').text\n",
    "        Price.append(price)\n",
    "    except NoSuchElementException:\n",
    "        Brand.append(\"NaN\")\n",
    "        Product_Description.append(\"NaN\")\n",
    "        Price.append(\"NaN\")\n",
    "        "
   ]
  },
  {
   "cell_type": "code",
   "execution_count": null,
   "id": "d77c5cef-5382-4891-935b-d1ce74a9c9ec",
   "metadata": {},
   "outputs": [],
   "source": [
    "Sneakers=pd.DataFrame({})\n",
    "Sneakers['Brand']=Brand[:100]\n",
    "Sneakers['Product_Description']=Product_Description[:100]\n",
    "Sneakers['Price']=Price[:100]"
   ]
  },
  {
   "cell_type": "code",
   "execution_count": null,
   "id": "7ee5fe77-97a2-4a8e-8568-9a1d5933cba0",
   "metadata": {},
   "outputs": [],
   "source": [
    "Sneakers"
   ]
  },
  {
   "cell_type": "markdown",
   "id": "833e0bfc-aafc-447d-9155-ddf93de8d94e",
   "metadata": {},
   "source": [
    "Q5: Go to webpage https://www.amazon.in/ Enter “Laptop” in the search field and then click the search icon. Then set CPU\n",
    "Type filter to “Intel Core i7” as shown in the below image:\n",
    "Aftersetting the filters scrape first 10 laptops data. You have to scrape 3 attributes for each laptop:\n",
    "1. Title\n",
    "2. Ratings\n",
    "3. Price"
   ]
  },
  {
   "cell_type": "code",
   "execution_count": 16,
   "id": "bf77775f-3cf4-4a69-a3dd-6a00e9027209",
   "metadata": {},
   "outputs": [],
   "source": [
    "driver=webdriver.Chrome()"
   ]
  },
  {
   "cell_type": "code",
   "execution_count": 17,
   "id": "0786eb2e-43e9-405b-9fd4-8b293d80b46c",
   "metadata": {},
   "outputs": [],
   "source": [
    "driver.get(\"https://www.amazon.in/\")"
   ]
  },
  {
   "cell_type": "code",
   "execution_count": 21,
   "id": "1295b2bc-d866-4250-9503-19524d05d4cd",
   "metadata": {},
   "outputs": [],
   "source": [
    "product=driver.find_element(By.XPATH,'/html/body/div[1]/div[1]/div/div[2]/form/div/div/input')\n",
    "product.send_keys('laptop')"
   ]
  },
  {
   "cell_type": "code",
   "execution_count": 22,
   "id": "30449da7-558e-4b7a-ac71-76e665e07b0b",
   "metadata": {},
   "outputs": [],
   "source": [
    "search=driver.find_element(By.XPATH,'/html/body/div[1]/div[1]/div/div[2]/form/input')\n",
    "search.click()"
   ]
  },
  {
   "cell_type": "code",
   "execution_count": 23,
   "id": "533c4bc7-de2f-4bbb-9d2b-b9e2c5403c2d",
   "metadata": {},
   "outputs": [],
   "source": [
    "check_box=driver.find_element(By.XPATH,'/html/body/div[1]/div[1]/div[1]/div[2]/div/div[3]/span/div[1]/div/div/div[6]/div[19]/div/ul/span[10]/li/span/a/span')\n",
    "check_box.click()"
   ]
  },
  {
   "cell_type": "code",
   "execution_count": 30,
   "id": "5a5536ae-fcc6-4ac7-bc4f-cc5222e49764",
   "metadata": {},
   "outputs": [],
   "source": [
    "#scraping job title from the given page\n",
    "title_tags=driver.find_elements(By.XPATH,'//span[@class=\"a-size-medium a-color-base a-text-normal\"]')\n",
    "#scraping  Rating from the given page\n",
    "rating_tags=driver.find_elements(By.XPATH,'//span[@class=\"a-size-base s-underline-text\"]')\n",
    "#scraping price from the given page\n",
    "price_tags=driver.find_elements(By.XPATH,'//span[@class=\"a-price-whole\"]')"
   ]
  },
  {
   "cell_type": "code",
   "execution_count": 31,
   "id": "c7e71650-b73f-45f2-a8c2-6e85a6fd8aea",
   "metadata": {},
   "outputs": [],
   "source": [
    "data = []\n",
    "for i in range(10):\n",
    "  product = {\n",
    "  'product Title':title_tags[i].text,\n",
    "  'product rating':rating_tags[i].text,\n",
    "  'product price': price_tags[i].text,\n",
    "  }\n",
    "  data.append(product)"
   ]
  },
  {
   "cell_type": "code",
   "execution_count": 33,
   "id": "749d874b-40eb-4819-8cd3-09fb5fe2c56a",
   "metadata": {},
   "outputs": [
    {
     "data": {
      "text/html": [
       "<div>\n",
       "<style scoped>\n",
       "    .dataframe tbody tr th:only-of-type {\n",
       "        vertical-align: middle;\n",
       "    }\n",
       "\n",
       "    .dataframe tbody tr th {\n",
       "        vertical-align: top;\n",
       "    }\n",
       "\n",
       "    .dataframe thead th {\n",
       "        text-align: right;\n",
       "    }\n",
       "</style>\n",
       "<table border=\"1\" class=\"dataframe\">\n",
       "  <thead>\n",
       "    <tr style=\"text-align: right;\">\n",
       "      <th></th>\n",
       "      <th>product Title</th>\n",
       "      <th>product rating</th>\n",
       "      <th>product price</th>\n",
       "    </tr>\n",
       "  </thead>\n",
       "  <tbody>\n",
       "    <tr>\n",
       "      <th>0</th>\n",
       "      <td>Lenovo IdeaPad Slim 3 Intel Core i7 12th Gen 1...</td>\n",
       "      <td>472</td>\n",
       "      <td>59,990</td>\n",
       "    </tr>\n",
       "    <tr>\n",
       "      <th>1</th>\n",
       "      <td>HP Pavilion X360 11th Gen Intel Core i7 14\" (3...</td>\n",
       "      <td>152</td>\n",
       "      <td>49,650</td>\n",
       "    </tr>\n",
       "    <tr>\n",
       "      <th>2</th>\n",
       "      <td>ASUS TUF Gaming F15, 15.6\"(39.62 cms) FHD 144H...</td>\n",
       "      <td>258</td>\n",
       "      <td>62,490</td>\n",
       "    </tr>\n",
       "    <tr>\n",
       "      <th>3</th>\n",
       "      <td>HP OMEN Gaming Laptop, Intel Core i7-14700HX (...</td>\n",
       "      <td>7</td>\n",
       "      <td>67,990</td>\n",
       "    </tr>\n",
       "    <tr>\n",
       "      <th>4</th>\n",
       "      <td>Lenovo IdeaPad Slim 3 Intel Core i7 12th Gen 1...</td>\n",
       "      <td>472</td>\n",
       "      <td>67,990</td>\n",
       "    </tr>\n",
       "    <tr>\n",
       "      <th>5</th>\n",
       "      <td>Lenovo Yoga Slim7 Carbon Intel Evo i7 1260P 13...</td>\n",
       "      <td>4</td>\n",
       "      <td>1,38,990</td>\n",
       "    </tr>\n",
       "    <tr>\n",
       "      <th>6</th>\n",
       "      <td>Lenovo ThinkBook 15 Intel 12th Gen Core i7 15....</td>\n",
       "      <td>3</td>\n",
       "      <td>62,490</td>\n",
       "    </tr>\n",
       "    <tr>\n",
       "      <th>7</th>\n",
       "      <td>ASUS Vivobook 15, Intel Core i7-12650H 12th Ge...</td>\n",
       "      <td>465</td>\n",
       "      <td>1,13,490</td>\n",
       "    </tr>\n",
       "    <tr>\n",
       "      <th>8</th>\n",
       "      <td>HP Pavilion X360 11th Gen Intel Core i7 14\" (3...</td>\n",
       "      <td>152</td>\n",
       "      <td>59,990</td>\n",
       "    </tr>\n",
       "    <tr>\n",
       "      <th>9</th>\n",
       "      <td>HP Pavilion 14 12th Gen Intel Core i7 16GB SDR...</td>\n",
       "      <td>661</td>\n",
       "      <td>59,990</td>\n",
       "    </tr>\n",
       "  </tbody>\n",
       "</table>\n",
       "</div>"
      ],
      "text/plain": [
       "                                       product Title product rating  \\\n",
       "0  Lenovo IdeaPad Slim 3 Intel Core i7 12th Gen 1...            472   \n",
       "1  HP Pavilion X360 11th Gen Intel Core i7 14\" (3...            152   \n",
       "2  ASUS TUF Gaming F15, 15.6\"(39.62 cms) FHD 144H...            258   \n",
       "3  HP OMEN Gaming Laptop, Intel Core i7-14700HX (...              7   \n",
       "4  Lenovo IdeaPad Slim 3 Intel Core i7 12th Gen 1...            472   \n",
       "5  Lenovo Yoga Slim7 Carbon Intel Evo i7 1260P 13...              4   \n",
       "6  Lenovo ThinkBook 15 Intel 12th Gen Core i7 15....              3   \n",
       "7  ASUS Vivobook 15, Intel Core i7-12650H 12th Ge...            465   \n",
       "8  HP Pavilion X360 11th Gen Intel Core i7 14\" (3...            152   \n",
       "9  HP Pavilion 14 12th Gen Intel Core i7 16GB SDR...            661   \n",
       "\n",
       "  product price  \n",
       "0        59,990  \n",
       "1        49,650  \n",
       "2        62,490  \n",
       "3        67,990  \n",
       "4        67,990  \n",
       "5      1,38,990  \n",
       "6        62,490  \n",
       "7      1,13,490  \n",
       "8        59,990  \n",
       "9        59,990  "
      ]
     },
     "execution_count": 33,
     "metadata": {},
     "output_type": "execute_result"
    }
   ],
   "source": [
    "df=pd.DataFrame(data)\n",
    "df"
   ]
  },
  {
   "cell_type": "markdown",
   "id": "f457188a-897c-491c-b56b-4cdfb5a7d769",
   "metadata": {},
   "source": [
    "Q6: Write a python program to scrape data for Top 1000 Quotes of All Time.\n",
    "The above task will be done in following steps:\n",
    "1. First get the webpagehttps://www.azquotes.com/\n",
    "2. Click on TopQuote\n",
    "3. Than scrap a)Quote b) Author c) Type Of Quotes"
   ]
  },
  {
   "cell_type": "code",
   "execution_count": 44,
   "id": "ee817384-b1f9-40bb-9eea-d743ab7175f8",
   "metadata": {},
   "outputs": [],
   "source": [
    "driver=webdriver.Chrome()"
   ]
  },
  {
   "cell_type": "code",
   "execution_count": 45,
   "id": "14269990-5eaf-4346-bdab-fa81639297c3",
   "metadata": {},
   "outputs": [],
   "source": [
    "driver.get(\"https://www.azquotes.com/\")"
   ]
  },
  {
   "cell_type": "code",
   "execution_count": 46,
   "id": "6ebaae2b-cc93-4c41-9fa6-d8030c0c8ad2",
   "metadata": {},
   "outputs": [],
   "source": [
    "TQ_click=driver.find_element(By.XPATH,'/html/body/div[1]/div[1]/div[1]/div/div[3]/ul/li[5]/a')\n",
    "TQ_click.click()"
   ]
  },
  {
   "cell_type": "code",
   "execution_count": 47,
   "id": "d1aafafc-d446-460c-a0c6-6683415412ae",
   "metadata": {},
   "outputs": [],
   "source": [
    "#creating the empty lists\n",
    "Quote=[]\n",
    "Author=[]\n",
    "Types_of_quotes=[]"
   ]
  },
  {
   "cell_type": "code",
   "execution_count": 58,
   "id": "e03f1202-9c98-4946-86d6-12a7ab781cb7",
   "metadata": {},
   "outputs": [
    {
     "ename": "ElementNotInteractableException",
     "evalue": "Message: element not interactable\n  (Session info: chrome=123.0.6312.106)\nStacktrace:\n\tGetHandleVerifier [0x00007FF7FB107032+63090]\n\t(No symbol) [0x00007FF7FB072C82]\n\t(No symbol) [0x00007FF7FAF0EB1D]\n\t(No symbol) [0x00007FF7FAF55D56]\n\t(No symbol) [0x00007FF7FAF4A708]\n\t(No symbol) [0x00007FF7FAF76FDA]\n\t(No symbol) [0x00007FF7FAF4A00A]\n\t(No symbol) [0x00007FF7FAF771F0]\n\t(No symbol) [0x00007FF7FAF93412]\n\t(No symbol) [0x00007FF7FAF76D83]\n\t(No symbol) [0x00007FF7FAF483A8]\n\t(No symbol) [0x00007FF7FAF49441]\n\tGetHandleVerifier [0x00007FF7FB5025AD+4238317]\n\tGetHandleVerifier [0x00007FF7FB53F70D+4488525]\n\tGetHandleVerifier [0x00007FF7FB5379EF+4456495]\n\tGetHandleVerifier [0x00007FF7FB1E0576+953270]\n\t(No symbol) [0x00007FF7FB07E54F]\n\t(No symbol) [0x00007FF7FB079224]\n\t(No symbol) [0x00007FF7FB07935B]\n\t(No symbol) [0x00007FF7FB069B94]\n\tBaseThreadInitThunk [0x00007FFFA901257D+29]\n\tRtlUserThreadStart [0x00007FFFAABEAA48+40]\n",
     "output_type": "error",
     "traceback": [
      "\u001b[1;31m---------------------------------------------------------------------------\u001b[0m",
      "\u001b[1;31mElementNotInteractableException\u001b[0m           Traceback (most recent call last)",
      "Cell \u001b[1;32mIn[58], line 7\u001b[0m\n\u001b[0;32m      5\u001b[0m     URL\u001b[38;5;241m.\u001b[39mappend(i\u001b[38;5;241m.\u001b[39mget_attribute(\u001b[38;5;124m'\u001b[39m\u001b[38;5;124mhref\u001b[39m\u001b[38;5;124m'\u001b[39m))\n\u001b[0;32m      6\u001b[0m \u001b[38;5;66;03m# Clicking on NEXT button at end of page\u001b[39;00m\n\u001b[1;32m----> 7\u001b[0m driver\u001b[38;5;241m.\u001b[39mfind_element(By\u001b[38;5;241m.\u001b[39mXPATH,\u001b[38;5;124m'\u001b[39m\u001b[38;5;124m/html/body/div[1]/div[2]/div/div/div/div[1]/div/div[3]/li[12]/a\u001b[39m\u001b[38;5;124m'\u001b[39m)\u001b[38;5;241m.\u001b[39mclick()\n\u001b[0;32m      8\u001b[0m time\u001b[38;5;241m.\u001b[39msleep(\u001b[38;5;241m4\u001b[39m)\n",
      "File \u001b[1;32m~\\anaconda3\\Lib\\site-packages\\selenium\\webdriver\\remote\\webelement.py:94\u001b[0m, in \u001b[0;36mWebElement.click\u001b[1;34m(self)\u001b[0m\n\u001b[0;32m     92\u001b[0m \u001b[38;5;28;01mdef\u001b[39;00m \u001b[38;5;21mclick\u001b[39m(\u001b[38;5;28mself\u001b[39m) \u001b[38;5;241m-\u001b[39m\u001b[38;5;241m>\u001b[39m \u001b[38;5;28;01mNone\u001b[39;00m:\n\u001b[0;32m     93\u001b[0m \u001b[38;5;250m    \u001b[39m\u001b[38;5;124;03m\"\"\"Clicks the element.\"\"\"\u001b[39;00m\n\u001b[1;32m---> 94\u001b[0m     \u001b[38;5;28mself\u001b[39m\u001b[38;5;241m.\u001b[39m_execute(Command\u001b[38;5;241m.\u001b[39mCLICK_ELEMENT)\n",
      "File \u001b[1;32m~\\anaconda3\\Lib\\site-packages\\selenium\\webdriver\\remote\\webelement.py:395\u001b[0m, in \u001b[0;36mWebElement._execute\u001b[1;34m(self, command, params)\u001b[0m\n\u001b[0;32m    393\u001b[0m     params \u001b[38;5;241m=\u001b[39m {}\n\u001b[0;32m    394\u001b[0m params[\u001b[38;5;124m\"\u001b[39m\u001b[38;5;124mid\u001b[39m\u001b[38;5;124m\"\u001b[39m] \u001b[38;5;241m=\u001b[39m \u001b[38;5;28mself\u001b[39m\u001b[38;5;241m.\u001b[39m_id\n\u001b[1;32m--> 395\u001b[0m \u001b[38;5;28;01mreturn\u001b[39;00m \u001b[38;5;28mself\u001b[39m\u001b[38;5;241m.\u001b[39m_parent\u001b[38;5;241m.\u001b[39mexecute(command, params)\n",
      "File \u001b[1;32m~\\anaconda3\\Lib\\site-packages\\selenium\\webdriver\\remote\\webdriver.py:347\u001b[0m, in \u001b[0;36mWebDriver.execute\u001b[1;34m(self, driver_command, params)\u001b[0m\n\u001b[0;32m    345\u001b[0m response \u001b[38;5;241m=\u001b[39m \u001b[38;5;28mself\u001b[39m\u001b[38;5;241m.\u001b[39mcommand_executor\u001b[38;5;241m.\u001b[39mexecute(driver_command, params)\n\u001b[0;32m    346\u001b[0m \u001b[38;5;28;01mif\u001b[39;00m response:\n\u001b[1;32m--> 347\u001b[0m     \u001b[38;5;28mself\u001b[39m\u001b[38;5;241m.\u001b[39merror_handler\u001b[38;5;241m.\u001b[39mcheck_response(response)\n\u001b[0;32m    348\u001b[0m     response[\u001b[38;5;124m\"\u001b[39m\u001b[38;5;124mvalue\u001b[39m\u001b[38;5;124m\"\u001b[39m] \u001b[38;5;241m=\u001b[39m \u001b[38;5;28mself\u001b[39m\u001b[38;5;241m.\u001b[39m_unwrap_value(response\u001b[38;5;241m.\u001b[39mget(\u001b[38;5;124m\"\u001b[39m\u001b[38;5;124mvalue\u001b[39m\u001b[38;5;124m\"\u001b[39m, \u001b[38;5;28;01mNone\u001b[39;00m))\n\u001b[0;32m    349\u001b[0m     \u001b[38;5;28;01mreturn\u001b[39;00m response\n",
      "File \u001b[1;32m~\\anaconda3\\Lib\\site-packages\\selenium\\webdriver\\remote\\errorhandler.py:229\u001b[0m, in \u001b[0;36mErrorHandler.check_response\u001b[1;34m(self, response)\u001b[0m\n\u001b[0;32m    227\u001b[0m         alert_text \u001b[38;5;241m=\u001b[39m value[\u001b[38;5;124m\"\u001b[39m\u001b[38;5;124malert\u001b[39m\u001b[38;5;124m\"\u001b[39m]\u001b[38;5;241m.\u001b[39mget(\u001b[38;5;124m\"\u001b[39m\u001b[38;5;124mtext\u001b[39m\u001b[38;5;124m\"\u001b[39m)\n\u001b[0;32m    228\u001b[0m     \u001b[38;5;28;01mraise\u001b[39;00m exception_class(message, screen, stacktrace, alert_text)  \u001b[38;5;66;03m# type: ignore[call-arg]  # mypy is not smart enough here\u001b[39;00m\n\u001b[1;32m--> 229\u001b[0m \u001b[38;5;28;01mraise\u001b[39;00m exception_class(message, screen, stacktrace)\n",
      "\u001b[1;31mElementNotInteractableException\u001b[0m: Message: element not interactable\n  (Session info: chrome=123.0.6312.106)\nStacktrace:\n\tGetHandleVerifier [0x00007FF7FB107032+63090]\n\t(No symbol) [0x00007FF7FB072C82]\n\t(No symbol) [0x00007FF7FAF0EB1D]\n\t(No symbol) [0x00007FF7FAF55D56]\n\t(No symbol) [0x00007FF7FAF4A708]\n\t(No symbol) [0x00007FF7FAF76FDA]\n\t(No symbol) [0x00007FF7FAF4A00A]\n\t(No symbol) [0x00007FF7FAF771F0]\n\t(No symbol) [0x00007FF7FAF93412]\n\t(No symbol) [0x00007FF7FAF76D83]\n\t(No symbol) [0x00007FF7FAF483A8]\n\t(No symbol) [0x00007FF7FAF49441]\n\tGetHandleVerifier [0x00007FF7FB5025AD+4238317]\n\tGetHandleVerifier [0x00007FF7FB53F70D+4488525]\n\tGetHandleVerifier [0x00007FF7FB5379EF+4456495]\n\tGetHandleVerifier [0x00007FF7FB1E0576+953270]\n\t(No symbol) [0x00007FF7FB07E54F]\n\t(No symbol) [0x00007FF7FB079224]\n\t(No symbol) [0x00007FF7FB07935B]\n\t(No symbol) [0x00007FF7FB069B94]\n\tBaseThreadInitThunk [0x00007FFFA901257D+29]\n\tRtlUserThreadStart [0x00007FFFAABEAA48+40]\n"
     ]
    }
   ],
   "source": [
    "URL=[]\n",
    "for i in range(0,11):\n",
    "    qoute_url=driver.find_elements(By.XPATH,'//div[@class=\"wrap-block\"]')\n",
    "    for i in qoute_url:\n",
    "        URL.append(i.get_attribute('href'))\n",
    "    # Clicking on NEXT button at end of page\n",
    "    driver.find_element(By.XPATH,'/html/body/div[1]/div[2]/div/div/div/div[1]/div/div[3]/li[12]/a').click()\n",
    "    time.sleep(4)"
   ]
  },
  {
   "cell_type": "code",
   "execution_count": 59,
   "id": "d1e41e8b-b696-45ae-af02-bec08d4436ab",
   "metadata": {},
   "outputs": [
    {
     "data": {
      "text/plain": [
       "[None, None, None, None, None, None, None, None, None, None]"
      ]
     },
     "execution_count": 59,
     "metadata": {},
     "output_type": "execute_result"
    }
   ],
   "source": [
    "URL[:10]"
   ]
  },
  {
   "cell_type": "markdown",
   "id": "e45db89f-1b09-437a-ac07-9f5bad6ff53f",
   "metadata": {},
   "source": [
    "Q7: Write a python program to display list of respected former Prime Ministers of India (i.e. Name,\r\n",
    "Born-Dead, Term of office, Remarks) from https://www.jagranjosh.com/general-knowledge/list-ofall-prime-ministers-of-india-1473165149-1\r\n",
    "scrap the mentioned data and make the DataFrame"
   ]
  },
  {
   "cell_type": "code",
   "execution_count": 60,
   "id": "ea632214-f7d9-4ad1-aee6-bd5b4e18bd39",
   "metadata": {},
   "outputs": [],
   "source": [
    "driver=webdriver.Chrome()"
   ]
  },
  {
   "cell_type": "code",
   "execution_count": 61,
   "id": "dd088019-79c1-4fbb-a9fa-df03a4e82a50",
   "metadata": {},
   "outputs": [],
   "source": [
    "driver.get(\"https://www.jagranjosh.com/general-knowledge/list-ofall-prime-ministers-of-india-1473165149-1\")"
   ]
  },
  {
   "cell_type": "code",
   "execution_count": null,
   "id": "851473eb-eda0-4551-a3e4-e86e4e24afce",
   "metadata": {},
   "outputs": [],
   "source": []
  },
  {
   "cell_type": "markdown",
   "id": "0a677ce7-8c75-446b-be14-e1b1c88f05bd",
   "metadata": {},
   "source": [
    "Q8: Write a python program to display list of 50 Most expensive cars in the world\n",
    "(i.e. Car name and Price) from https://www.motor1.com/\n",
    "This task will be done in following steps:\n",
    "1. First get the webpage https://www.motor1.com/\n",
    "2. Then You have to type in the search bar ’50 most expensive cars’\n",
    "3. Then click on 50 most expensive carsin the world..\n",
    "4. Then scrap thementioned data and make the dataframe."
   ]
  },
  {
   "cell_type": "code",
   "execution_count": 89,
   "id": "80c9d482-0045-4bb3-88af-d1e911a99def",
   "metadata": {},
   "outputs": [],
   "source": [
    "driver=webdriver.Chrome()"
   ]
  },
  {
   "cell_type": "code",
   "execution_count": 90,
   "id": "d055c4a0-73a3-432a-b9ed-603efd18f4cb",
   "metadata": {},
   "outputs": [],
   "source": [
    "driver.get(\"https://www.motor1.com/\")"
   ]
  },
  {
   "cell_type": "code",
   "execution_count": 92,
   "id": "f78547cf-e06d-44a9-8b3a-18f208ec7d1e",
   "metadata": {},
   "outputs": [],
   "source": [
    "search_car=driver.find_element(By.XPATH,'/html/body/div[9]/div[2]/div/div/div[3]/div/div/div/form/input')\n",
    "search_car.send_keys('50 most expensive cars')"
   ]
  },
  {
   "cell_type": "code",
   "execution_count": 93,
   "id": "42feab79-da31-44bd-bfed-c9898c038f71",
   "metadata": {},
   "outputs": [],
   "source": [
    "search=driver.find_element(By.XPATH,'/html/body/div[9]/div[2]/div/div/div[3]/div/div/div/form/button[1]')\n",
    "search.click()"
   ]
  },
  {
   "cell_type": "code",
   "execution_count": 94,
   "id": "0445e2da-f77b-4e34-8e86-8fdf3ee4eeba",
   "metadata": {},
   "outputs": [],
   "source": [
    "click_result=driver.find_element(By.XPATH,'/html/body/div[9]/div[9]/div/div[1]/div/div/div[1]/div/div[1]/h3/a')\n",
    "click_result.click()"
   ]
  },
  {
   "cell_type": "code",
   "execution_count": 99,
   "id": "ac3d364a-e1da-4d16-a536-0922c72613d0",
   "metadata": {},
   "outputs": [],
   "source": [
    "Car_name=[]\n",
    "Price=[]"
   ]
  },
  {
   "cell_type": "code",
   "execution_count": 102,
   "id": "772f0815-a75a-4bac-a5c2-0a54a86b56b3",
   "metadata": {},
   "outputs": [],
   "source": [
    "carname_tag=driver.find_elements(By.XPATH,'//h3[@class=\"subheader\"]')\n",
    "for i in carname_tag:\n",
    "    Name=i.text\n",
    "    Car_name.append(Name)\n",
    "\n",
    "price_tag=driver.find_elements(By.XPATH,'/html/body/div[9]/div[7]/div[2]/div[1]/div[2]/div[2]/p[4]/strong')\n",
    "for i in price_tag:\n",
    "    price=i.text\n",
    "    Price.append(price)\n",
    "    "
   ]
  },
  {
   "cell_type": "code",
   "execution_count": 106,
   "id": "ab149ac1-c501-4bfa-ba6f-2de3f9630f50",
   "metadata": {},
   "outputs": [],
   "source": [
    "Details=[]\n",
    "Detail = {\n",
    "  'Car Name':Car_name,\n",
    "  'Price': Price}"
   ]
  },
  {
   "cell_type": "code",
   "execution_count": 107,
   "id": "43f9017f-3833-4609-81dc-4511ac04b0b0",
   "metadata": {},
   "outputs": [
    {
     "data": {
      "text/html": [
       "<div>\n",
       "<style scoped>\n",
       "    .dataframe tbody tr th:only-of-type {\n",
       "        vertical-align: middle;\n",
       "    }\n",
       "\n",
       "    .dataframe tbody tr th {\n",
       "        vertical-align: top;\n",
       "    }\n",
       "\n",
       "    .dataframe thead th {\n",
       "        text-align: right;\n",
       "    }\n",
       "</style>\n",
       "<table border=\"1\" class=\"dataframe\">\n",
       "  <thead>\n",
       "    <tr style=\"text-align: right;\">\n",
       "      <th></th>\n",
       "    </tr>\n",
       "  </thead>\n",
       "  <tbody>\n",
       "  </tbody>\n",
       "</table>\n",
       "</div>"
      ],
      "text/plain": [
       "Empty DataFrame\n",
       "Columns: []\n",
       "Index: []"
      ]
     },
     "execution_count": 107,
     "metadata": {},
     "output_type": "execute_result"
    }
   ],
   "source": [
    "df=pd.DataFrame(Details)\n",
    "df"
   ]
  },
  {
   "cell_type": "code",
   "execution_count": null,
   "id": "b0b83a54-2e17-498e-afca-65d2442f22f2",
   "metadata": {},
   "outputs": [],
   "source": []
  }
 ],
 "metadata": {
  "kernelspec": {
   "display_name": "Python 3 (ipykernel)",
   "language": "python",
   "name": "python3"
  },
  "language_info": {
   "codemirror_mode": {
    "name": "ipython",
    "version": 3
   },
   "file_extension": ".py",
   "mimetype": "text/x-python",
   "name": "python",
   "nbconvert_exporter": "python",
   "pygments_lexer": "ipython3",
   "version": "3.11.7"
  }
 },
 "nbformat": 4,
 "nbformat_minor": 5
}
